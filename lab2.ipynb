{
  "cells": [
    {
      "cell_type": "code",
      "execution_count": 1,
      "metadata": {
        "id": "NpLTzara0YDQ"
      },
      "outputs": [],
      "source": [
        "import torch\n",
        "import torch.nn as nn\n",
        "import torch.nn.functional as F\n",
        "import torch.optim as optim\n",
        "from torchvision import datasets, transforms\n",
        "from torch.utils.data import DataLoader\n",
        "import matplotlib.pyplot as plt\n",
        "import matplotlib.gridspec as gridspec\n",
        "import numpy as np\n",
        "import tqdm\n",
        "import os\n",
        "import wandb\n",
        "import torch.nn.functional as F\n",
        "\n",
        "# Hyperparameters\n",
        "mb_size = 64\n",
        "Z_dim = 1000\n",
        "h_dim = 128\n",
        "lr = 1e-3\n",
        "y_dim = 10"
      ]
    },
    {
      "cell_type": "markdown",
      "metadata": {
        "id": "PZ5gLi1v1PU3"
      },
      "source": [
        "# New Section"
      ]
    },
    {
      "cell_type": "code",
      "execution_count": 2,
      "metadata": {
        "colab": {
          "base_uri": "https://localhost:8080/"
        },
        "id": "cj8-aLZ_1QTx",
        "outputId": "4581837a-8bb4-41b5-dada-0f6515295bde"
      },
      "outputs": [
        {
          "output_type": "stream",
          "name": "stderr",
          "text": [
            "100%|██████████| 9.91M/9.91M [00:00<00:00, 42.8MB/s]\n",
            "100%|██████████| 28.9k/28.9k [00:00<00:00, 1.16MB/s]\n",
            "100%|██████████| 1.65M/1.65M [00:00<00:00, 10.7MB/s]\n",
            "100%|██████████| 4.54k/4.54k [00:00<00:00, 9.70MB/s]\n"
          ]
        }
      ],
      "source": [
        "# Load MNIST data\n",
        "transform = transforms.Compose([\n",
        "  transforms.ToTensor(),\n",
        "  transforms.Lambda(lambda x: x.view(-1)) # Flatten the 28x28 image to 784\n",
        "])\n",
        "train_dataset = datasets.MNIST(root='../MNIST', train=True, transform=transform,\n",
        "download=True)\n",
        "train_loader = DataLoader(train_dataset, batch_size=mb_size, shuffle=True)\n",
        "X_dim = 784 # 28 x 28"
      ]
    },
    {
      "cell_type": "code",
      "execution_count": 3,
      "metadata": {
        "id": "UftKptZv1Xd2"
      },
      "outputs": [],
      "source": [
        "# Xavier Initialization\n",
        "def xavier_init(m):\n",
        "    if isinstance(m, nn.Linear):\n",
        "        nn.init.xavier_normal_(m.weight)\n",
        "        if m.bias is not None:\n",
        "            nn.init.zeros_(m.bias)"
      ]
    },
    {
      "cell_type": "code",
      "execution_count": 4,
      "metadata": {
        "id": "WXAa58aV1yGt"
      },
      "outputs": [],
      "source": [
        "# Generator\n",
        "class Generator(nn.Module):\n",
        "    def __init__(self, z_dim, h_dim, x_dim):\n",
        "        super(Generator, self).__init__()\n",
        "        self.fc1 = nn.Linear(z_dim, h_dim)\n",
        "        self.fc2 = nn.Linear(h_dim, x_dim)\n",
        "        self.apply(xavier_init)\n",
        "\n",
        "    def forward(self, z):\n",
        "        h = F.relu(self.fc1(z))\n",
        "        out = torch.sigmoid(self.fc2(h))\n",
        "        return out"
      ]
    },
    {
      "cell_type": "code",
      "execution_count": 5,
      "metadata": {
        "id": "9Oi4SRA013tt"
      },
      "outputs": [],
      "source": [
        "# Discriminator\n",
        "class Discriminator(nn.Module):\n",
        "    def __init__(self, x_dim, h_dim):\n",
        "        super(Discriminator, self).__init__()\n",
        "        self.fc1 = nn.Linear(x_dim, h_dim)\n",
        "        self.fc2 = nn.Linear(h_dim, 1)\n",
        "        self.apply(xavier_init)\n",
        "\n",
        "    def forward(self, x):\n",
        "        h = F.relu(self.fc1(x))\n",
        "        out = torch.sigmoid(self.fc2(h))\n",
        "        return out"
      ]
    },
    {
      "cell_type": "code",
      "execution_count": 6,
      "metadata": {
        "id": "jTzovm-u160m"
      },
      "outputs": [],
      "source": [
        "# Training\n",
        "def cGANTraining(G, D, loss_fn, train_loader):\n",
        "    G.train()\n",
        "    D.train()\n",
        "\n",
        "    D_loss_real_total = 0\n",
        "    D_loss_fake_total = 0\n",
        "    G_loss_total = 0\n",
        "    t = tqdm.tqdm(train_loader)\n",
        "\n",
        "    for it, (X_real, labels) in enumerate(t):\n",
        "        # Prepare real data\n",
        "        X_real = X_real.float().to(device)\n",
        "\n",
        "        # Sample noise and labels\n",
        "        z = torch.randn(X_real.size(0), Z_dim).to(device)\n",
        "        ones_label = torch.ones(X_real.size(0), 1).to(device)\n",
        "        zeros_label = torch.zeros(X_real.size(0), 1).to(device)\n",
        "\n",
        "        # ================= Train Discriminator =================\n",
        "        G_sample = G(z)\n",
        "        D_real = D(X_real)\n",
        "        D_fake = D(G_sample.detach())\n",
        "\n",
        "        D_loss_real = loss_fn(D_real, ones_label)\n",
        "        D_loss_fake = loss_fn(D_fake, zeros_label)\n",
        "        D_loss = D_loss_real + D_loss_fake\n",
        "        D_loss_real_total += D_loss_real.item()\n",
        "        D_loss_fake_total += D_loss_fake.item()\n",
        "\n",
        "        D_solver.zero_grad()\n",
        "        D_loss.backward()\n",
        "        D_solver.step()\n",
        "\n",
        "        # ================= Train Generator ====================\n",
        "        z = torch.randn(X_real.size(0), Z_dim).to(device)\n",
        "        G_sample = G(z)\n",
        "        D_fake = D(G_sample)\n",
        "\n",
        "        G_loss = loss_fn(D_fake, ones_label)\n",
        "        G_loss_total += G_loss.item()\n",
        "\n",
        "        G_solver.zero_grad()\n",
        "        G_loss.backward()\n",
        "        G_solver.step()\n",
        "\n",
        "    # ================= Logging =================\n",
        "    D_loss_real_avg = D_loss_real_total / len(train_loader)\n",
        "    D_loss_fake_avg = D_loss_fake_total / len(train_loader)\n",
        "    D_loss_avg = D_loss_real_avg + D_loss_fake_avg\n",
        "    G_loss_avg = G_loss_total / len(train_loader)\n",
        "\n",
        "    wandb.log({\n",
        "        \"D_loss_real\": D_loss_real_avg,\n",
        "        \"D_loss_fake\": D_loss_fake_avg,\n",
        "        \"D_loss\": D_loss_avg,\n",
        "        \"G_loss\": G_loss_avg\n",
        "    })\n",
        "\n",
        "    return G, D, G_loss_avg, D_loss_avg"
      ]
    },
    {
      "cell_type": "code",
      "execution_count": 7,
      "metadata": {
        "id": "T_FFHA2S1-nl"
      },
      "outputs": [],
      "source": [
        "def save_sample(G, epoch, mb_size, Z_dim,name):\n",
        "    out_dir = name\n",
        "    G.eval()\n",
        "    with torch.no_grad():\n",
        "        z = torch.randn(mb_size, Z_dim).to(device)\n",
        "        samples = G(z).detach().cpu().numpy()[:16]\n",
        "\n",
        "    fig = plt.figure(figsize=(4, 4))\n",
        "    gs = gridspec.GridSpec(4, 4)\n",
        "    gs.update(wspace=0.05, hspace=0.05)\n",
        "\n",
        "    for i, sample in enumerate(samples):\n",
        "        ax = plt.subplot(gs[i])\n",
        "        plt.axis('off')\n",
        "        ax.set_xticklabels([])\n",
        "        ax.set_yticklabels([])\n",
        "        ax.set_aspect('equal')\n",
        "        plt.imshow(sample.reshape(28, 28), cmap='Greys_r')\n",
        "\n",
        "    if not os.path.exists(f'{out_dir}'):\n",
        "        os.makedirs(f'{out_dir}')\n",
        "\n",
        "    plt.savefig(f'{out_dir}/{str(epoch).zfill(3)}.png', bbox_inches='tight')\n",
        "    plt.close(fig)"
      ]
    },
    {
      "cell_type": "code",
      "execution_count": 8,
      "metadata": {
        "id": "SbzTqEnM2CgX",
        "colab": {
          "base_uri": "https://localhost:8080/",
          "height": 1000
        },
        "outputId": "10568c30-76c1-434e-de8e-1feea0dee7f5"
      },
      "outputs": [
        {
          "output_type": "stream",
          "name": "stdout",
          "text": [
            "cuda:0\n"
          ]
        },
        {
          "output_type": "stream",
          "name": "stderr",
          "text": [
            "\u001b[34m\u001b[1mwandb\u001b[0m: Using wandb-core as the SDK backend.  Please refer to https://wandb.me/wandb-core for more information.\n"
          ]
        },
        {
          "output_type": "display_data",
          "data": {
            "text/plain": [
              "<IPython.core.display.Javascript object>"
            ],
            "application/javascript": [
              "\n",
              "        window._wandbApiKey = new Promise((resolve, reject) => {\n",
              "            function loadScript(url) {\n",
              "            return new Promise(function(resolve, reject) {\n",
              "                let newScript = document.createElement(\"script\");\n",
              "                newScript.onerror = reject;\n",
              "                newScript.onload = resolve;\n",
              "                document.body.appendChild(newScript);\n",
              "                newScript.src = url;\n",
              "            });\n",
              "            }\n",
              "            loadScript(\"https://cdn.jsdelivr.net/npm/postmate/build/postmate.min.js\").then(() => {\n",
              "            const iframe = document.createElement('iframe')\n",
              "            iframe.style.cssText = \"width:0;height:0;border:none\"\n",
              "            document.body.appendChild(iframe)\n",
              "            const handshake = new Postmate({\n",
              "                container: iframe,\n",
              "                url: 'https://wandb.ai/authorize'\n",
              "            });\n",
              "            const timeout = setTimeout(() => reject(\"Couldn't auto authenticate\"), 5000)\n",
              "            handshake.then(function(child) {\n",
              "                child.on('authorize', data => {\n",
              "                    clearTimeout(timeout)\n",
              "                    resolve(data)\n",
              "                });\n",
              "            });\n",
              "            })\n",
              "        });\n",
              "    "
            ]
          },
          "metadata": {}
        },
        {
          "output_type": "stream",
          "name": "stderr",
          "text": [
            "\u001b[34m\u001b[1mwandb\u001b[0m: Logging into wandb.ai. (Learn how to deploy a W&B server locally: https://wandb.me/wandb-server)\n",
            "\u001b[34m\u001b[1mwandb\u001b[0m: You can find your API key in your browser here: https://wandb.ai/authorize\n",
            "wandb: Paste an API key from your profile and hit enter:"
          ]
        },
        {
          "name": "stdout",
          "output_type": "stream",
          "text": [
            " ··········\n"
          ]
        },
        {
          "output_type": "stream",
          "name": "stderr",
          "text": [
            "\u001b[34m\u001b[1mwandb\u001b[0m: \u001b[33mWARNING\u001b[0m If you're specifying your api key in code, ensure this code is not shared publicly.\n",
            "\u001b[34m\u001b[1mwandb\u001b[0m: \u001b[33mWARNING\u001b[0m Consider setting the WANDB_API_KEY environment variable, or running `wandb login` from the command line.\n",
            "\u001b[34m\u001b[1mwandb\u001b[0m: No netrc file found, creating one.\n",
            "\u001b[34m\u001b[1mwandb\u001b[0m: Appending key for api.wandb.ai to your netrc file: /root/.netrc\n",
            "\u001b[34m\u001b[1mwandb\u001b[0m: Currently logged in as: \u001b[33mantfol-1\u001b[0m (\u001b[33mertveh-4-lule-university-of-technology\u001b[0m) to \u001b[32mhttps://api.wandb.ai\u001b[0m. Use \u001b[1m`wandb login --relogin`\u001b[0m to force relogin\n"
          ]
        },
        {
          "output_type": "display_data",
          "data": {
            "text/plain": [
              "<IPython.core.display.HTML object>"
            ],
            "text/html": [
              "Tracking run with wandb version 0.19.9"
            ]
          },
          "metadata": {}
        },
        {
          "output_type": "display_data",
          "data": {
            "text/plain": [
              "<IPython.core.display.HTML object>"
            ],
            "text/html": [
              "Run data is saved locally in <code>/content/wandb/run-20250428_102748-euz7z3t2</code>"
            ]
          },
          "metadata": {}
        },
        {
          "output_type": "display_data",
          "data": {
            "text/plain": [
              "<IPython.core.display.HTML object>"
            ],
            "text/html": [
              "Syncing run <strong><a href='https://wandb.ai/ertveh-4-lule-university-of-technology/lab2/runs/euz7z3t2' target=\"_blank\">polished-snowball-36</a></strong> to <a href='https://wandb.ai/ertveh-4-lule-university-of-technology/lab2' target=\"_blank\">Weights & Biases</a> (<a href='https://wandb.me/developer-guide' target=\"_blank\">docs</a>)<br>"
            ]
          },
          "metadata": {}
        },
        {
          "output_type": "display_data",
          "data": {
            "text/plain": [
              "<IPython.core.display.HTML object>"
            ],
            "text/html": [
              " View project at <a href='https://wandb.ai/ertveh-4-lule-university-of-technology/lab2' target=\"_blank\">https://wandb.ai/ertveh-4-lule-university-of-technology/lab2</a>"
            ]
          },
          "metadata": {}
        },
        {
          "output_type": "display_data",
          "data": {
            "text/plain": [
              "<IPython.core.display.HTML object>"
            ],
            "text/html": [
              " View run at <a href='https://wandb.ai/ertveh-4-lule-university-of-technology/lab2/runs/euz7z3t2' target=\"_blank\">https://wandb.ai/ertveh-4-lule-university-of-technology/lab2/runs/euz7z3t2</a>"
            ]
          },
          "metadata": {}
        },
        {
          "output_type": "stream",
          "name": "stderr",
          "text": [
            "100%|██████████| 938/938 [00:11<00:00, 82.68it/s]\n"
          ]
        },
        {
          "output_type": "stream",
          "name": "stdout",
          "text": [
            "epoch0; D_loss: 0.0611; G_loss: 6.2353\n",
            "Saved Best Models at epoch 0 | G_loss: 6.2353\n"
          ]
        },
        {
          "output_type": "stream",
          "name": "stderr",
          "text": [
            "100%|██████████| 938/938 [00:10<00:00, 87.69it/s]\n"
          ]
        },
        {
          "output_type": "stream",
          "name": "stdout",
          "text": [
            "epoch1; D_loss: 0.0201; G_loss: 7.1225\n"
          ]
        },
        {
          "output_type": "stream",
          "name": "stderr",
          "text": [
            "100%|██████████| 938/938 [00:10<00:00, 88.24it/s]\n"
          ]
        },
        {
          "output_type": "stream",
          "name": "stdout",
          "text": [
            "epoch2; D_loss: 0.0324; G_loss: 6.1664\n",
            "Saved Best Models at epoch 2 | G_loss: 6.1664\n"
          ]
        },
        {
          "output_type": "stream",
          "name": "stderr",
          "text": [
            "100%|██████████| 938/938 [00:10<00:00, 88.67it/s]\n"
          ]
        },
        {
          "output_type": "stream",
          "name": "stdout",
          "text": [
            "epoch3; D_loss: 0.0367; G_loss: 6.9058\n"
          ]
        },
        {
          "output_type": "stream",
          "name": "stderr",
          "text": [
            "100%|██████████| 938/938 [00:10<00:00, 88.32it/s]\n"
          ]
        },
        {
          "output_type": "stream",
          "name": "stdout",
          "text": [
            "epoch4; D_loss: 0.0941; G_loss: 6.0441\n",
            "Saved Best Models at epoch 4 | G_loss: 6.0441\n"
          ]
        },
        {
          "output_type": "stream",
          "name": "stderr",
          "text": [
            "100%|██████████| 938/938 [00:10<00:00, 88.26it/s]\n"
          ]
        },
        {
          "output_type": "stream",
          "name": "stdout",
          "text": [
            "epoch5; D_loss: 0.1999; G_loss: 5.1965\n",
            "Saved Best Models at epoch 5 | G_loss: 5.1965\n"
          ]
        },
        {
          "output_type": "stream",
          "name": "stderr",
          "text": [
            "100%|██████████| 938/938 [00:10<00:00, 88.34it/s]\n"
          ]
        },
        {
          "output_type": "stream",
          "name": "stdout",
          "text": [
            "epoch6; D_loss: 0.2755; G_loss: 4.3661\n",
            "Saved Best Models at epoch 6 | G_loss: 4.3661\n"
          ]
        },
        {
          "output_type": "stream",
          "name": "stderr",
          "text": [
            "100%|██████████| 938/938 [00:10<00:00, 88.62it/s]\n"
          ]
        },
        {
          "output_type": "stream",
          "name": "stdout",
          "text": [
            "epoch7; D_loss: 0.3301; G_loss: 3.8666\n",
            "Saved Best Models at epoch 7 | G_loss: 3.8666\n"
          ]
        },
        {
          "output_type": "stream",
          "name": "stderr",
          "text": [
            "100%|██████████| 938/938 [00:10<00:00, 89.13it/s]\n"
          ]
        },
        {
          "output_type": "stream",
          "name": "stdout",
          "text": [
            "epoch8; D_loss: 0.3903; G_loss: 3.4736\n",
            "Saved Best Models at epoch 8 | G_loss: 3.4736\n"
          ]
        },
        {
          "output_type": "stream",
          "name": "stderr",
          "text": [
            "100%|██████████| 938/938 [00:10<00:00, 89.20it/s]\n"
          ]
        },
        {
          "output_type": "stream",
          "name": "stdout",
          "text": [
            "epoch9; D_loss: 0.4723; G_loss: 3.1973\n",
            "Saved Best Models at epoch 9 | G_loss: 3.1973\n"
          ]
        },
        {
          "output_type": "stream",
          "name": "stderr",
          "text": [
            "100%|██████████| 938/938 [00:10<00:00, 89.26it/s]\n"
          ]
        },
        {
          "output_type": "stream",
          "name": "stdout",
          "text": [
            "epoch10; D_loss: 0.5012; G_loss: 3.0780\n",
            "Saved Best Models at epoch 10 | G_loss: 3.0780\n"
          ]
        },
        {
          "output_type": "stream",
          "name": "stderr",
          "text": [
            "100%|██████████| 938/938 [00:10<00:00, 89.39it/s]\n"
          ]
        },
        {
          "output_type": "stream",
          "name": "stdout",
          "text": [
            "epoch11; D_loss: 0.5386; G_loss: 2.9009\n",
            "Saved Best Models at epoch 11 | G_loss: 2.9009\n"
          ]
        },
        {
          "output_type": "stream",
          "name": "stderr",
          "text": [
            "100%|██████████| 938/938 [00:10<00:00, 89.11it/s]\n"
          ]
        },
        {
          "output_type": "stream",
          "name": "stdout",
          "text": [
            "epoch12; D_loss: 0.5828; G_loss: 2.6844\n",
            "Saved Best Models at epoch 12 | G_loss: 2.6844\n"
          ]
        },
        {
          "output_type": "stream",
          "name": "stderr",
          "text": [
            "100%|██████████| 938/938 [00:10<00:00, 87.77it/s]\n"
          ]
        },
        {
          "output_type": "stream",
          "name": "stdout",
          "text": [
            "epoch13; D_loss: 0.6033; G_loss: 2.6007\n",
            "Saved Best Models at epoch 13 | G_loss: 2.6007\n"
          ]
        },
        {
          "output_type": "stream",
          "name": "stderr",
          "text": [
            "100%|██████████| 938/938 [00:10<00:00, 88.54it/s]\n"
          ]
        },
        {
          "output_type": "stream",
          "name": "stdout",
          "text": [
            "epoch14; D_loss: 0.6331; G_loss: 2.5030\n",
            "Saved Best Models at epoch 14 | G_loss: 2.5030\n"
          ]
        },
        {
          "output_type": "stream",
          "name": "stderr",
          "text": [
            "100%|██████████| 938/938 [00:10<00:00, 88.50it/s]\n"
          ]
        },
        {
          "output_type": "stream",
          "name": "stdout",
          "text": [
            "epoch15; D_loss: 0.6389; G_loss: 2.5274\n"
          ]
        },
        {
          "output_type": "stream",
          "name": "stderr",
          "text": [
            "100%|██████████| 938/938 [00:10<00:00, 87.53it/s]\n"
          ]
        },
        {
          "output_type": "stream",
          "name": "stdout",
          "text": [
            "epoch16; D_loss: 0.6742; G_loss: 2.4292\n",
            "Saved Best Models at epoch 16 | G_loss: 2.4292\n"
          ]
        },
        {
          "output_type": "stream",
          "name": "stderr",
          "text": [
            "100%|██████████| 938/938 [00:10<00:00, 87.69it/s]\n"
          ]
        },
        {
          "output_type": "stream",
          "name": "stdout",
          "text": [
            "epoch17; D_loss: 0.6682; G_loss: 2.3798\n",
            "Saved Best Models at epoch 17 | G_loss: 2.3798\n"
          ]
        },
        {
          "output_type": "stream",
          "name": "stderr",
          "text": [
            "100%|██████████| 938/938 [00:10<00:00, 89.14it/s]\n"
          ]
        },
        {
          "output_type": "stream",
          "name": "stdout",
          "text": [
            "epoch18; D_loss: 0.6739; G_loss: 2.3760\n",
            "Saved Best Models at epoch 18 | G_loss: 2.3760\n"
          ]
        },
        {
          "output_type": "stream",
          "name": "stderr",
          "text": [
            "100%|██████████| 938/938 [00:10<00:00, 88.49it/s]\n"
          ]
        },
        {
          "output_type": "stream",
          "name": "stdout",
          "text": [
            "epoch19; D_loss: 0.6754; G_loss: 2.3636\n",
            "Saved Best Models at epoch 19 | G_loss: 2.3636\n"
          ]
        },
        {
          "output_type": "stream",
          "name": "stderr",
          "text": [
            "100%|██████████| 938/938 [00:10<00:00, 88.42it/s]\n"
          ]
        },
        {
          "output_type": "stream",
          "name": "stdout",
          "text": [
            "epoch20; D_loss: 0.6712; G_loss: 2.3696\n"
          ]
        },
        {
          "output_type": "stream",
          "name": "stderr",
          "text": [
            "100%|██████████| 938/938 [00:10<00:00, 88.99it/s]\n"
          ]
        },
        {
          "output_type": "stream",
          "name": "stdout",
          "text": [
            "epoch21; D_loss: 0.6759; G_loss: 2.3212\n",
            "Saved Best Models at epoch 21 | G_loss: 2.3212\n"
          ]
        },
        {
          "output_type": "stream",
          "name": "stderr",
          "text": [
            "100%|██████████| 938/938 [00:10<00:00, 89.42it/s]\n"
          ]
        },
        {
          "output_type": "stream",
          "name": "stdout",
          "text": [
            "epoch22; D_loss: 0.6706; G_loss: 2.3656\n"
          ]
        },
        {
          "output_type": "stream",
          "name": "stderr",
          "text": [
            "100%|██████████| 938/938 [00:10<00:00, 89.05it/s]\n"
          ]
        },
        {
          "output_type": "stream",
          "name": "stdout",
          "text": [
            "epoch23; D_loss: 0.6619; G_loss: 2.3666\n"
          ]
        },
        {
          "output_type": "stream",
          "name": "stderr",
          "text": [
            "100%|██████████| 938/938 [00:10<00:00, 88.96it/s]\n"
          ]
        },
        {
          "output_type": "stream",
          "name": "stdout",
          "text": [
            "epoch24; D_loss: 0.6699; G_loss: 2.3836\n"
          ]
        },
        {
          "output_type": "stream",
          "name": "stderr",
          "text": [
            "100%|██████████| 938/938 [00:10<00:00, 89.26it/s]\n"
          ]
        },
        {
          "output_type": "stream",
          "name": "stdout",
          "text": [
            "epoch25; D_loss: 0.6614; G_loss: 2.3918\n"
          ]
        },
        {
          "output_type": "stream",
          "name": "stderr",
          "text": [
            "100%|██████████| 938/938 [00:10<00:00, 88.43it/s]\n"
          ]
        },
        {
          "output_type": "stream",
          "name": "stdout",
          "text": [
            "epoch26; D_loss: 0.6576; G_loss: 2.4591\n"
          ]
        },
        {
          "output_type": "stream",
          "name": "stderr",
          "text": [
            "100%|██████████| 938/938 [00:10<00:00, 89.05it/s]\n"
          ]
        },
        {
          "output_type": "stream",
          "name": "stdout",
          "text": [
            "epoch27; D_loss: 0.6577; G_loss: 2.4763\n"
          ]
        },
        {
          "output_type": "stream",
          "name": "stderr",
          "text": [
            "100%|██████████| 938/938 [00:10<00:00, 88.41it/s]\n"
          ]
        },
        {
          "output_type": "stream",
          "name": "stdout",
          "text": [
            "epoch28; D_loss: 0.6441; G_loss: 2.4899\n"
          ]
        },
        {
          "output_type": "stream",
          "name": "stderr",
          "text": [
            "100%|██████████| 938/938 [00:10<00:00, 88.21it/s]\n"
          ]
        },
        {
          "output_type": "stream",
          "name": "stdout",
          "text": [
            "epoch29; D_loss: 0.6455; G_loss: 2.5192\n"
          ]
        },
        {
          "output_type": "stream",
          "name": "stderr",
          "text": [
            "100%|██████████| 938/938 [00:10<00:00, 88.68it/s]\n"
          ]
        },
        {
          "output_type": "stream",
          "name": "stdout",
          "text": [
            "epoch30; D_loss: 0.6422; G_loss: 2.5337\n"
          ]
        },
        {
          "output_type": "stream",
          "name": "stderr",
          "text": [
            "100%|██████████| 938/938 [00:10<00:00, 89.25it/s]\n"
          ]
        },
        {
          "output_type": "stream",
          "name": "stdout",
          "text": [
            "epoch31; D_loss: 0.6444; G_loss: 2.5508\n"
          ]
        },
        {
          "output_type": "stream",
          "name": "stderr",
          "text": [
            "100%|██████████| 938/938 [00:10<00:00, 89.23it/s]\n"
          ]
        },
        {
          "output_type": "stream",
          "name": "stdout",
          "text": [
            "epoch32; D_loss: 0.6378; G_loss: 2.5685\n"
          ]
        },
        {
          "output_type": "stream",
          "name": "stderr",
          "text": [
            "100%|██████████| 938/938 [00:10<00:00, 89.43it/s]\n"
          ]
        },
        {
          "output_type": "stream",
          "name": "stdout",
          "text": [
            "epoch33; D_loss: 0.6334; G_loss: 2.5922\n"
          ]
        },
        {
          "output_type": "stream",
          "name": "stderr",
          "text": [
            "100%|██████████| 938/938 [00:10<00:00, 88.31it/s]\n"
          ]
        },
        {
          "output_type": "stream",
          "name": "stdout",
          "text": [
            "epoch34; D_loss: 0.6186; G_loss: 2.6022\n"
          ]
        },
        {
          "output_type": "stream",
          "name": "stderr",
          "text": [
            "100%|██████████| 938/938 [00:10<00:00, 89.22it/s]\n"
          ]
        },
        {
          "output_type": "stream",
          "name": "stdout",
          "text": [
            "epoch35; D_loss: 0.6076; G_loss: 2.6318\n"
          ]
        },
        {
          "output_type": "stream",
          "name": "stderr",
          "text": [
            "100%|██████████| 938/938 [00:10<00:00, 88.48it/s]\n"
          ]
        },
        {
          "output_type": "stream",
          "name": "stdout",
          "text": [
            "epoch36; D_loss: 0.6070; G_loss: 2.6404\n"
          ]
        },
        {
          "output_type": "stream",
          "name": "stderr",
          "text": [
            "100%|██████████| 938/938 [00:10<00:00, 89.38it/s]\n"
          ]
        },
        {
          "output_type": "stream",
          "name": "stdout",
          "text": [
            "epoch37; D_loss: 0.6045; G_loss: 2.6624\n"
          ]
        },
        {
          "output_type": "stream",
          "name": "stderr",
          "text": [
            "100%|██████████| 938/938 [00:10<00:00, 88.51it/s]\n"
          ]
        },
        {
          "output_type": "stream",
          "name": "stdout",
          "text": [
            "epoch38; D_loss: 0.5987; G_loss: 2.7032\n"
          ]
        },
        {
          "output_type": "stream",
          "name": "stderr",
          "text": [
            "100%|██████████| 938/938 [00:10<00:00, 88.80it/s]\n"
          ]
        },
        {
          "output_type": "stream",
          "name": "stdout",
          "text": [
            "epoch39; D_loss: 0.5908; G_loss: 2.7458\n"
          ]
        },
        {
          "output_type": "stream",
          "name": "stderr",
          "text": [
            "100%|██████████| 938/938 [00:10<00:00, 88.44it/s]\n"
          ]
        },
        {
          "output_type": "stream",
          "name": "stdout",
          "text": [
            "epoch40; D_loss: 0.5885; G_loss: 2.7644\n"
          ]
        },
        {
          "output_type": "stream",
          "name": "stderr",
          "text": [
            "100%|██████████| 938/938 [00:10<00:00, 88.69it/s]\n"
          ]
        },
        {
          "output_type": "stream",
          "name": "stdout",
          "text": [
            "epoch41; D_loss: 0.5762; G_loss: 2.7856\n"
          ]
        },
        {
          "output_type": "stream",
          "name": "stderr",
          "text": [
            "100%|██████████| 938/938 [00:10<00:00, 88.99it/s]\n"
          ]
        },
        {
          "output_type": "stream",
          "name": "stdout",
          "text": [
            "epoch42; D_loss: 0.5779; G_loss: 2.7970\n"
          ]
        },
        {
          "output_type": "stream",
          "name": "stderr",
          "text": [
            "100%|██████████| 938/938 [00:10<00:00, 89.01it/s]\n"
          ]
        },
        {
          "output_type": "stream",
          "name": "stdout",
          "text": [
            "epoch43; D_loss: 0.5695; G_loss: 2.8366\n"
          ]
        },
        {
          "output_type": "stream",
          "name": "stderr",
          "text": [
            "100%|██████████| 938/938 [00:10<00:00, 88.94it/s]\n"
          ]
        },
        {
          "output_type": "stream",
          "name": "stdout",
          "text": [
            "epoch44; D_loss: 0.5668; G_loss: 2.8911\n"
          ]
        },
        {
          "output_type": "stream",
          "name": "stderr",
          "text": [
            "100%|██████████| 938/938 [00:10<00:00, 88.92it/s]\n"
          ]
        },
        {
          "output_type": "stream",
          "name": "stdout",
          "text": [
            "epoch45; D_loss: 0.5604; G_loss: 2.8882\n"
          ]
        },
        {
          "output_type": "stream",
          "name": "stderr",
          "text": [
            "100%|██████████| 938/938 [00:10<00:00, 88.95it/s]\n"
          ]
        },
        {
          "output_type": "stream",
          "name": "stdout",
          "text": [
            "epoch46; D_loss: 0.5572; G_loss: 2.8980\n"
          ]
        },
        {
          "output_type": "stream",
          "name": "stderr",
          "text": [
            "100%|██████████| 938/938 [00:10<00:00, 89.38it/s]\n"
          ]
        },
        {
          "output_type": "stream",
          "name": "stdout",
          "text": [
            "epoch47; D_loss: 0.5572; G_loss: 2.9023\n"
          ]
        },
        {
          "output_type": "stream",
          "name": "stderr",
          "text": [
            "100%|██████████| 938/938 [00:10<00:00, 89.14it/s]\n"
          ]
        },
        {
          "output_type": "stream",
          "name": "stdout",
          "text": [
            "epoch48; D_loss: 0.5522; G_loss: 2.9167\n"
          ]
        },
        {
          "output_type": "stream",
          "name": "stderr",
          "text": [
            "100%|██████████| 938/938 [00:10<00:00, 88.34it/s]\n"
          ]
        },
        {
          "output_type": "stream",
          "name": "stdout",
          "text": [
            "epoch49; D_loss: 0.5480; G_loss: 2.9253\n"
          ]
        },
        {
          "output_type": "stream",
          "name": "stderr",
          "text": [
            "100%|██████████| 938/938 [00:10<00:00, 88.27it/s]\n"
          ]
        },
        {
          "output_type": "stream",
          "name": "stdout",
          "text": [
            "epoch50; D_loss: 0.5448; G_loss: 2.9071\n"
          ]
        },
        {
          "output_type": "stream",
          "name": "stderr",
          "text": [
            "100%|██████████| 938/938 [00:10<00:00, 88.66it/s]\n"
          ]
        },
        {
          "output_type": "stream",
          "name": "stdout",
          "text": [
            "epoch51; D_loss: 0.5385; G_loss: 2.8809\n"
          ]
        },
        {
          "output_type": "stream",
          "name": "stderr",
          "text": [
            "100%|██████████| 938/938 [00:10<00:00, 88.00it/s]\n"
          ]
        },
        {
          "output_type": "stream",
          "name": "stdout",
          "text": [
            "epoch52; D_loss: 0.5382; G_loss: 2.9265\n"
          ]
        },
        {
          "output_type": "stream",
          "name": "stderr",
          "text": [
            "100%|██████████| 938/938 [00:10<00:00, 88.41it/s]\n"
          ]
        },
        {
          "output_type": "stream",
          "name": "stdout",
          "text": [
            "epoch53; D_loss: 0.5298; G_loss: 2.9131\n"
          ]
        },
        {
          "output_type": "stream",
          "name": "stderr",
          "text": [
            "100%|██████████| 938/938 [00:10<00:00, 88.57it/s]\n"
          ]
        },
        {
          "output_type": "stream",
          "name": "stdout",
          "text": [
            "epoch54; D_loss: 0.5256; G_loss: 2.9324\n"
          ]
        },
        {
          "output_type": "stream",
          "name": "stderr",
          "text": [
            "100%|██████████| 938/938 [00:10<00:00, 88.76it/s]\n"
          ]
        },
        {
          "output_type": "stream",
          "name": "stdout",
          "text": [
            "epoch55; D_loss: 0.5272; G_loss: 2.9423\n"
          ]
        },
        {
          "output_type": "stream",
          "name": "stderr",
          "text": [
            "100%|██████████| 938/938 [00:10<00:00, 88.41it/s]\n"
          ]
        },
        {
          "output_type": "stream",
          "name": "stdout",
          "text": [
            "epoch56; D_loss: 0.5120; G_loss: 2.9351\n"
          ]
        },
        {
          "output_type": "stream",
          "name": "stderr",
          "text": [
            "100%|██████████| 938/938 [00:10<00:00, 88.73it/s]\n"
          ]
        },
        {
          "output_type": "stream",
          "name": "stdout",
          "text": [
            "epoch57; D_loss: 0.5143; G_loss: 2.9264\n"
          ]
        },
        {
          "output_type": "stream",
          "name": "stderr",
          "text": [
            "100%|██████████| 938/938 [00:10<00:00, 88.49it/s]\n"
          ]
        },
        {
          "output_type": "stream",
          "name": "stdout",
          "text": [
            "epoch58; D_loss: 0.5082; G_loss: 2.9287\n"
          ]
        },
        {
          "output_type": "stream",
          "name": "stderr",
          "text": [
            "100%|██████████| 938/938 [00:10<00:00, 88.20it/s]\n"
          ]
        },
        {
          "output_type": "stream",
          "name": "stdout",
          "text": [
            "epoch59; D_loss: 0.5104; G_loss: 2.9760\n"
          ]
        },
        {
          "output_type": "stream",
          "name": "stderr",
          "text": [
            "100%|██████████| 938/938 [00:10<00:00, 88.60it/s]\n"
          ]
        },
        {
          "output_type": "stream",
          "name": "stdout",
          "text": [
            "epoch60; D_loss: 0.5037; G_loss: 2.9904\n"
          ]
        },
        {
          "output_type": "stream",
          "name": "stderr",
          "text": [
            "100%|██████████| 938/938 [00:10<00:00, 89.61it/s]\n"
          ]
        },
        {
          "output_type": "stream",
          "name": "stdout",
          "text": [
            "epoch61; D_loss: 0.4966; G_loss: 2.9574\n"
          ]
        },
        {
          "output_type": "stream",
          "name": "stderr",
          "text": [
            "100%|██████████| 938/938 [00:10<00:00, 88.92it/s]\n"
          ]
        },
        {
          "output_type": "stream",
          "name": "stdout",
          "text": [
            "epoch62; D_loss: 0.4962; G_loss: 3.0058\n"
          ]
        },
        {
          "output_type": "stream",
          "name": "stderr",
          "text": [
            "100%|██████████| 938/938 [00:10<00:00, 89.03it/s]\n"
          ]
        },
        {
          "output_type": "stream",
          "name": "stdout",
          "text": [
            "epoch63; D_loss: 0.4892; G_loss: 2.9740\n"
          ]
        },
        {
          "output_type": "stream",
          "name": "stderr",
          "text": [
            "100%|██████████| 938/938 [00:10<00:00, 87.90it/s]\n"
          ]
        },
        {
          "output_type": "stream",
          "name": "stdout",
          "text": [
            "epoch64; D_loss: 0.4892; G_loss: 2.9764\n"
          ]
        },
        {
          "output_type": "stream",
          "name": "stderr",
          "text": [
            "100%|██████████| 938/938 [00:10<00:00, 88.50it/s]\n"
          ]
        },
        {
          "output_type": "stream",
          "name": "stdout",
          "text": [
            "epoch65; D_loss: 0.4811; G_loss: 2.9859\n"
          ]
        },
        {
          "output_type": "stream",
          "name": "stderr",
          "text": [
            "100%|██████████| 938/938 [00:10<00:00, 89.02it/s]\n"
          ]
        },
        {
          "output_type": "stream",
          "name": "stdout",
          "text": [
            "epoch66; D_loss: 0.4811; G_loss: 3.0257\n"
          ]
        },
        {
          "output_type": "stream",
          "name": "stderr",
          "text": [
            "100%|██████████| 938/938 [00:10<00:00, 89.19it/s]\n"
          ]
        },
        {
          "output_type": "stream",
          "name": "stdout",
          "text": [
            "epoch67; D_loss: 0.4742; G_loss: 3.0709\n"
          ]
        },
        {
          "output_type": "stream",
          "name": "stderr",
          "text": [
            "100%|██████████| 938/938 [00:10<00:00, 89.12it/s]\n"
          ]
        },
        {
          "output_type": "stream",
          "name": "stdout",
          "text": [
            "epoch68; D_loss: 0.4730; G_loss: 3.0500\n"
          ]
        },
        {
          "output_type": "stream",
          "name": "stderr",
          "text": [
            "100%|██████████| 938/938 [00:10<00:00, 88.78it/s]\n"
          ]
        },
        {
          "output_type": "stream",
          "name": "stdout",
          "text": [
            "epoch69; D_loss: 0.4622; G_loss: 3.0702\n"
          ]
        },
        {
          "output_type": "stream",
          "name": "stderr",
          "text": [
            "100%|██████████| 938/938 [00:10<00:00, 88.56it/s]\n"
          ]
        },
        {
          "output_type": "stream",
          "name": "stdout",
          "text": [
            "epoch70; D_loss: 0.4650; G_loss: 3.0937\n"
          ]
        },
        {
          "output_type": "stream",
          "name": "stderr",
          "text": [
            "100%|██████████| 938/938 [00:10<00:00, 88.41it/s]\n"
          ]
        },
        {
          "output_type": "stream",
          "name": "stdout",
          "text": [
            "epoch71; D_loss: 0.4574; G_loss: 3.1146\n"
          ]
        },
        {
          "output_type": "stream",
          "name": "stderr",
          "text": [
            "100%|██████████| 938/938 [00:10<00:00, 89.21it/s]\n"
          ]
        },
        {
          "output_type": "stream",
          "name": "stdout",
          "text": [
            "epoch72; D_loss: 0.4513; G_loss: 3.1053\n"
          ]
        },
        {
          "output_type": "stream",
          "name": "stderr",
          "text": [
            "100%|██████████| 938/938 [00:10<00:00, 88.47it/s]\n"
          ]
        },
        {
          "output_type": "stream",
          "name": "stdout",
          "text": [
            "epoch73; D_loss: 0.4480; G_loss: 3.1220\n"
          ]
        },
        {
          "output_type": "stream",
          "name": "stderr",
          "text": [
            "100%|██████████| 938/938 [00:10<00:00, 88.96it/s]\n"
          ]
        },
        {
          "output_type": "stream",
          "name": "stdout",
          "text": [
            "epoch74; D_loss: 0.4481; G_loss: 3.1656\n"
          ]
        },
        {
          "output_type": "stream",
          "name": "stderr",
          "text": [
            "100%|██████████| 938/938 [00:10<00:00, 88.34it/s]\n"
          ]
        },
        {
          "output_type": "stream",
          "name": "stdout",
          "text": [
            "epoch75; D_loss: 0.4445; G_loss: 3.1675\n"
          ]
        },
        {
          "output_type": "stream",
          "name": "stderr",
          "text": [
            "100%|██████████| 938/938 [00:10<00:00, 88.37it/s]\n"
          ]
        },
        {
          "output_type": "stream",
          "name": "stdout",
          "text": [
            "epoch76; D_loss: 0.4413; G_loss: 3.1894\n"
          ]
        },
        {
          "output_type": "stream",
          "name": "stderr",
          "text": [
            "100%|██████████| 938/938 [00:10<00:00, 89.14it/s]\n"
          ]
        },
        {
          "output_type": "stream",
          "name": "stdout",
          "text": [
            "epoch77; D_loss: 0.4354; G_loss: 3.1924\n"
          ]
        },
        {
          "output_type": "stream",
          "name": "stderr",
          "text": [
            "100%|██████████| 938/938 [00:10<00:00, 88.43it/s]\n"
          ]
        },
        {
          "output_type": "stream",
          "name": "stdout",
          "text": [
            "epoch78; D_loss: 0.4312; G_loss: 3.2187\n"
          ]
        },
        {
          "output_type": "stream",
          "name": "stderr",
          "text": [
            "100%|██████████| 938/938 [00:10<00:00, 88.68it/s]\n"
          ]
        },
        {
          "output_type": "stream",
          "name": "stdout",
          "text": [
            "epoch79; D_loss: 0.4287; G_loss: 3.2443\n"
          ]
        },
        {
          "output_type": "stream",
          "name": "stderr",
          "text": [
            "100%|██████████| 938/938 [00:10<00:00, 89.21it/s]\n"
          ]
        },
        {
          "output_type": "stream",
          "name": "stdout",
          "text": [
            "epoch80; D_loss: 0.4286; G_loss: 3.2511\n"
          ]
        },
        {
          "output_type": "stream",
          "name": "stderr",
          "text": [
            "100%|██████████| 938/938 [00:10<00:00, 88.92it/s]\n"
          ]
        },
        {
          "output_type": "stream",
          "name": "stdout",
          "text": [
            "epoch81; D_loss: 0.4229; G_loss: 3.2826\n"
          ]
        },
        {
          "output_type": "stream",
          "name": "stderr",
          "text": [
            "100%|██████████| 938/938 [00:10<00:00, 89.13it/s]\n"
          ]
        },
        {
          "output_type": "stream",
          "name": "stdout",
          "text": [
            "epoch82; D_loss: 0.4213; G_loss: 3.2810\n"
          ]
        },
        {
          "output_type": "stream",
          "name": "stderr",
          "text": [
            "100%|██████████| 938/938 [00:10<00:00, 88.49it/s]\n"
          ]
        },
        {
          "output_type": "stream",
          "name": "stdout",
          "text": [
            "epoch83; D_loss: 0.4137; G_loss: 3.3273\n"
          ]
        },
        {
          "output_type": "stream",
          "name": "stderr",
          "text": [
            "100%|██████████| 938/938 [00:10<00:00, 88.16it/s]\n"
          ]
        },
        {
          "output_type": "stream",
          "name": "stdout",
          "text": [
            "epoch84; D_loss: 0.4162; G_loss: 3.3339\n"
          ]
        },
        {
          "output_type": "stream",
          "name": "stderr",
          "text": [
            "100%|██████████| 938/938 [00:10<00:00, 89.30it/s]\n"
          ]
        },
        {
          "output_type": "stream",
          "name": "stdout",
          "text": [
            "epoch85; D_loss: 0.4135; G_loss: 3.3734\n"
          ]
        },
        {
          "output_type": "stream",
          "name": "stderr",
          "text": [
            "100%|██████████| 938/938 [00:10<00:00, 89.18it/s]\n"
          ]
        },
        {
          "output_type": "stream",
          "name": "stdout",
          "text": [
            "epoch86; D_loss: 0.4127; G_loss: 3.3583\n"
          ]
        },
        {
          "output_type": "stream",
          "name": "stderr",
          "text": [
            "100%|██████████| 938/938 [00:10<00:00, 88.46it/s]\n"
          ]
        },
        {
          "output_type": "stream",
          "name": "stdout",
          "text": [
            "epoch87; D_loss: 0.4080; G_loss: 3.3922\n"
          ]
        },
        {
          "output_type": "stream",
          "name": "stderr",
          "text": [
            "100%|██████████| 938/938 [00:10<00:00, 86.98it/s]\n"
          ]
        },
        {
          "output_type": "stream",
          "name": "stdout",
          "text": [
            "epoch88; D_loss: 0.4059; G_loss: 3.3890\n"
          ]
        },
        {
          "output_type": "stream",
          "name": "stderr",
          "text": [
            "100%|██████████| 938/938 [00:10<00:00, 89.64it/s]\n"
          ]
        },
        {
          "output_type": "stream",
          "name": "stdout",
          "text": [
            "epoch89; D_loss: 0.4014; G_loss: 3.4081\n"
          ]
        },
        {
          "output_type": "stream",
          "name": "stderr",
          "text": [
            "100%|██████████| 938/938 [00:10<00:00, 88.31it/s]\n"
          ]
        },
        {
          "output_type": "stream",
          "name": "stdout",
          "text": [
            "epoch90; D_loss: 0.3977; G_loss: 3.4346\n"
          ]
        },
        {
          "output_type": "stream",
          "name": "stderr",
          "text": [
            "100%|██████████| 938/938 [00:10<00:00, 88.87it/s]\n"
          ]
        },
        {
          "output_type": "stream",
          "name": "stdout",
          "text": [
            "epoch91; D_loss: 0.3993; G_loss: 3.4472\n"
          ]
        },
        {
          "output_type": "stream",
          "name": "stderr",
          "text": [
            "100%|██████████| 938/938 [00:10<00:00, 87.53it/s]\n"
          ]
        },
        {
          "output_type": "stream",
          "name": "stdout",
          "text": [
            "epoch92; D_loss: 0.3924; G_loss: 3.4550\n"
          ]
        },
        {
          "output_type": "stream",
          "name": "stderr",
          "text": [
            "100%|██████████| 938/938 [00:10<00:00, 87.40it/s]\n"
          ]
        },
        {
          "output_type": "stream",
          "name": "stdout",
          "text": [
            "epoch93; D_loss: 0.3909; G_loss: 3.4597\n"
          ]
        },
        {
          "output_type": "stream",
          "name": "stderr",
          "text": [
            "100%|██████████| 938/938 [00:10<00:00, 88.19it/s]\n"
          ]
        },
        {
          "output_type": "stream",
          "name": "stdout",
          "text": [
            "epoch94; D_loss: 0.3919; G_loss: 3.4927\n"
          ]
        },
        {
          "output_type": "stream",
          "name": "stderr",
          "text": [
            "100%|██████████| 938/938 [00:10<00:00, 88.41it/s]\n"
          ]
        },
        {
          "output_type": "stream",
          "name": "stdout",
          "text": [
            "epoch95; D_loss: 0.3913; G_loss: 3.4911\n"
          ]
        },
        {
          "output_type": "stream",
          "name": "stderr",
          "text": [
            "100%|██████████| 938/938 [00:10<00:00, 88.80it/s]\n"
          ]
        },
        {
          "output_type": "stream",
          "name": "stdout",
          "text": [
            "epoch96; D_loss: 0.3828; G_loss: 3.4965\n"
          ]
        },
        {
          "output_type": "stream",
          "name": "stderr",
          "text": [
            "100%|██████████| 938/938 [00:10<00:00, 88.93it/s]\n"
          ]
        },
        {
          "output_type": "stream",
          "name": "stdout",
          "text": [
            "epoch97; D_loss: 0.3830; G_loss: 3.5367\n"
          ]
        },
        {
          "output_type": "stream",
          "name": "stderr",
          "text": [
            "100%|██████████| 938/938 [00:10<00:00, 89.54it/s]\n"
          ]
        },
        {
          "output_type": "stream",
          "name": "stdout",
          "text": [
            "epoch98; D_loss: 0.3808; G_loss: 3.5178\n"
          ]
        },
        {
          "output_type": "stream",
          "name": "stderr",
          "text": [
            "100%|██████████| 938/938 [00:10<00:00, 88.92it/s]\n"
          ]
        },
        {
          "output_type": "stream",
          "name": "stdout",
          "text": [
            "epoch99; D_loss: 0.3811; G_loss: 3.5513\n"
          ]
        }
      ],
      "source": [
        "########################### Main #######################################\n",
        "wandb_log = True\n",
        "device = torch.device(\"cuda:0\" if torch.cuda.is_available() else \"cpu\")\n",
        "print(device)\n",
        "\n",
        "# Instantiate models\n",
        "G = Generator(Z_dim, h_dim, X_dim).to(device)\n",
        "D = Discriminator(X_dim, h_dim).to(device)\n",
        "\n",
        "# Optimizers\n",
        "G_solver = optim.Adam(G.parameters(), lr=lr)\n",
        "D_solver = optim.Adam(D.parameters(), lr=lr)\n",
        "\n",
        "# Loss function\n",
        "def my_bce_loss(preds, targets):\n",
        "    return F.binary_cross_entropy(preds, targets)\n",
        "\n",
        "#loss_fn = nn.BCEWithLogitsLoss()\n",
        "loss_fn = my_bce_loss\n",
        "\n",
        "if wandb_log:\n",
        "    wandb.init(project=\"lab2\")  # 👈 Add mode=\"disabled\"\n",
        "\n",
        "    # Log hyperparameters\n",
        "    wandb.config.update({\n",
        "        \"batch_size\": mb_size,\n",
        "        \"Z_dim\": Z_dim,\n",
        "        \"X_dim\": X_dim,\n",
        "        \"h_dim\": h_dim,\n",
        "        \"lr\": lr,\n",
        "    })\n",
        "\n",
        "\n",
        "best_g_loss = float('inf')  # Initialize best generator loss\n",
        "save_dir = 'checkpoints'\n",
        "os.makedirs(save_dir, exist_ok=True)\n",
        "\n",
        "#Train epochs\n",
        "epochs = 100\n",
        "\n",
        "for epoch in range(epochs):\n",
        "    G, D, G_loss_avg, D_loss_avg= cGANTraining(G, D, loss_fn, train_loader)\n",
        "\n",
        "    print(f'epoch{epoch}; D_loss: {D_loss_avg:.4f}; G_loss: {G_loss_avg:.4f}')\n",
        "\n",
        "    if G_loss_avg < best_g_loss:\n",
        "        best_g_loss = G_loss_avg\n",
        "        torch.save(G.state_dict(), os.path.join(save_dir, 'G_best.pth'))\n",
        "        torch.save(D.state_dict(), os.path.join(save_dir, 'D_best.pth'))\n",
        "        print(f\"Saved Best Models at epoch {epoch} | G_loss: {best_g_loss:.4f}\")\n",
        "\n",
        "    save_sample(G, epoch, mb_size, Z_dim,\"out_vanila_GAN2\")\n",
        "\n",
        "\n"
      ]
    },
    {
      "cell_type": "code",
      "execution_count": 9,
      "metadata": {
        "id": "Z2mKITpXMzUN"
      },
      "outputs": [],
      "source": [
        "# Inference\n",
        "G.load_state_dict(torch.load('checkpoints/G_best.pth'))\n",
        "G.eval()\n",
        "\n",
        "save_sample(G, \"best\", mb_size, Z_dim, \"out_vanila_GAN2\")"
      ]
    },
    {
      "cell_type": "code",
      "execution_count": 9,
      "metadata": {
        "id": "hIQLnNxSIY5m"
      },
      "outputs": [],
      "source": []
    },
    {
      "cell_type": "markdown",
      "metadata": {
        "id": "xs1e6vx4-BB4"
      },
      "source": [
        "**Task 2**"
      ]
    },
    {
      "cell_type": "markdown",
      "metadata": {
        "id": "Mv_8gf9oB0V-"
      },
      "source": [
        "\n"
      ]
    },
    {
      "cell_type": "code",
      "execution_count": 9,
      "metadata": {
        "id": "iItFfNbVIZxm"
      },
      "outputs": [],
      "source": []
    },
    {
      "cell_type": "code",
      "execution_count": 10,
      "metadata": {
        "id": "c799laXe-0U2"
      },
      "outputs": [],
      "source": [
        "def cGANTraining_log(G, D, D_solver, G_solver, loss_d, loss_g, train_loader):\n",
        "    G.train()\n",
        "    D.train()\n",
        "\n",
        "    D_loss_real_total = 0\n",
        "    D_loss_fake_total = 0\n",
        "    G_loss_total = 0\n",
        "    t = tqdm.tqdm(train_loader)\n",
        "\n",
        "    for it, (X_real, labels) in enumerate(t):\n",
        "        # Prepare real data\n",
        "        X_real = X_real.float().to(device)\n",
        "\n",
        "        # Generate a random mask (1 = known pixel, 0 = missing pixel)\n",
        "        mask = (torch.rand_like(X_real) > 0.5).float().to(device)\n",
        "\n",
        "        # Create masked input\n",
        "        X_input = X_real * mask\n",
        "\n",
        "        # ================= Train Discriminator =================\n",
        "        z = torch.randn(X_real.size(0), Z_dim).to(device)\n",
        "        G_sample = G(z)\n",
        "\n",
        "        D_real = D(X_real)\n",
        "        D_fake = D(G_sample.detach())  # Detach to avoid backprop through G\n",
        "\n",
        "        D_loss = loss_d(D_real, D_fake)\n",
        "\n",
        "        D_loss_real_total += (-torch.mean(torch.log(D_real + 1e-8))).item()\n",
        "        D_loss_fake_total += (-torch.mean(torch.log(1 - D_fake + 1e-8))).item()\n",
        "\n",
        "        D_solver.zero_grad()\n",
        "        D_loss.backward()\n",
        "        D_solver.step()\n",
        "\n",
        "        # ================= Train Generator ====================\n",
        "        z = torch.randn(X_real.size(0), Z_dim).to(device)\n",
        "        G_sample = G(z)\n",
        "        D_fake = D(G_sample)\n",
        "\n",
        "        # *** CHANGED: pass real, generated, and mask to loss_g ***\n",
        "        G_loss = loss_g(G_sample, X_real, mask, D_fake)\n",
        "\n",
        "        G_loss_total += G_loss.item()\n",
        "\n",
        "        G_solver.zero_grad()\n",
        "        G_loss.backward()\n",
        "        G_solver.step()\n",
        "\n",
        "    # ================= Logging =================\n",
        "    D_loss_real_avg = D_loss_real_total / len(train_loader)\n",
        "    D_loss_fake_avg = D_loss_fake_total / len(train_loader)\n",
        "    D_loss_avg = D_loss_real_avg + D_loss_fake_avg\n",
        "    G_loss_avg = G_loss_total / len(train_loader)\n",
        "\n",
        "    wandb.log({\n",
        "        \"D_loss_real\": D_loss_real_avg,\n",
        "        \"D_loss_fake\": D_loss_fake_avg,\n",
        "        \"D_loss\": D_loss_avg,\n",
        "        \"G_loss\": G_loss_avg\n",
        "    })\n",
        "\n",
        "    return G, D, G_loss_avg, D_loss_avg\n"
      ]
    },
    {
      "cell_type": "code",
      "execution_count": 11,
      "metadata": {
        "id": "cXPE-Ele-JZq",
        "colab": {
          "base_uri": "https://localhost:8080/",
          "height": 1000
        },
        "outputId": "f31bd76c-a6dd-4948-d525-42fbf8093f15"
      },
      "outputs": [
        {
          "output_type": "stream",
          "name": "stdout",
          "text": [
            "cuda:0\n"
          ]
        },
        {
          "output_type": "display_data",
          "data": {
            "text/plain": [
              "<IPython.core.display.HTML object>"
            ],
            "text/html": []
          },
          "metadata": {}
        },
        {
          "output_type": "display_data",
          "data": {
            "text/plain": [
              "<IPython.core.display.HTML object>"
            ],
            "text/html": [
              "<br>    <style><br>        .wandb-row {<br>            display: flex;<br>            flex-direction: row;<br>            flex-wrap: wrap;<br>            justify-content: flex-start;<br>            width: 100%;<br>        }<br>        .wandb-col {<br>            display: flex;<br>            flex-direction: column;<br>            flex-basis: 100%;<br>            flex: 1;<br>            padding: 10px;<br>        }<br>    </style><br><div class=\"wandb-row\"><div class=\"wandb-col\"><h3>Run history:</h3><br/><table class=\"wandb\"><tr><td>D_loss</td><td>▁▁▆▇█████████▇▇▇▇▇▇▇▇▆▆▆▆▆▆▆▆▆▆▆▆▅▅▅▅▅▅▅</td></tr><tr><td>D_loss_fake</td><td>▁▁▃▄▆▇▇██████████▇▇▇▇▆▆▆▆▆▆▅▅▅▅▅▅▅▅▅▅▅▅▄</td></tr><tr><td>D_loss_real</td><td>▁▁▃▇▇███████▇▇▇▇▇▇▆▆▆▆▆▆▆▆▆▆▆▆▅▅▅▅▅▅▅▅▅▅</td></tr><tr><td>G_loss</td><td>▇█▅▃▂▁▁▁▁▁▁▁▁▁▁▂▂▂▂▂▂▂▂▂▂▂▂▂▂▂▂▂▂▂▂▃▃▃▃▃</td></tr></table><br/></div><div class=\"wandb-col\"><h3>Run summary:</h3><br/><table class=\"wandb\"><tr><td>D_loss</td><td>0.38111</td></tr><tr><td>D_loss_fake</td><td>0.16218</td></tr><tr><td>D_loss_real</td><td>0.21893</td></tr><tr><td>G_loss</td><td>3.55131</td></tr></table><br/></div></div>"
            ]
          },
          "metadata": {}
        },
        {
          "output_type": "display_data",
          "data": {
            "text/plain": [
              "<IPython.core.display.HTML object>"
            ],
            "text/html": [
              " View run <strong style=\"color:#cdcd00\">polished-snowball-36</strong> at: <a href='https://wandb.ai/ertveh-4-lule-university-of-technology/lab2/runs/euz7z3t2' target=\"_blank\">https://wandb.ai/ertveh-4-lule-university-of-technology/lab2/runs/euz7z3t2</a><br> View project at: <a href='https://wandb.ai/ertveh-4-lule-university-of-technology/lab2' target=\"_blank\">https://wandb.ai/ertveh-4-lule-university-of-technology/lab2</a><br>Synced 5 W&B file(s), 0 media file(s), 0 artifact file(s) and 0 other file(s)"
            ]
          },
          "metadata": {}
        },
        {
          "output_type": "display_data",
          "data": {
            "text/plain": [
              "<IPython.core.display.HTML object>"
            ],
            "text/html": [
              "Find logs at: <code>./wandb/run-20250428_102748-euz7z3t2/logs</code>"
            ]
          },
          "metadata": {}
        },
        {
          "output_type": "display_data",
          "data": {
            "text/plain": [
              "<IPython.core.display.HTML object>"
            ],
            "text/html": [
              "Tracking run with wandb version 0.19.9"
            ]
          },
          "metadata": {}
        },
        {
          "output_type": "display_data",
          "data": {
            "text/plain": [
              "<IPython.core.display.HTML object>"
            ],
            "text/html": [
              "Run data is saved locally in <code>/content/wandb/run-20250428_104559-uzjx29lr</code>"
            ]
          },
          "metadata": {}
        },
        {
          "output_type": "display_data",
          "data": {
            "text/plain": [
              "<IPython.core.display.HTML object>"
            ],
            "text/html": [
              "Syncing run <strong><a href='https://wandb.ai/ertveh-4-lule-university-of-technology/lab2/runs/uzjx29lr' target=\"_blank\">noble-hill-37</a></strong> to <a href='https://wandb.ai/ertveh-4-lule-university-of-technology/lab2' target=\"_blank\">Weights & Biases</a> (<a href='https://wandb.me/developer-guide' target=\"_blank\">docs</a>)<br>"
            ]
          },
          "metadata": {}
        },
        {
          "output_type": "display_data",
          "data": {
            "text/plain": [
              "<IPython.core.display.HTML object>"
            ],
            "text/html": [
              " View project at <a href='https://wandb.ai/ertveh-4-lule-university-of-technology/lab2' target=\"_blank\">https://wandb.ai/ertveh-4-lule-university-of-technology/lab2</a>"
            ]
          },
          "metadata": {}
        },
        {
          "output_type": "display_data",
          "data": {
            "text/plain": [
              "<IPython.core.display.HTML object>"
            ],
            "text/html": [
              " View run at <a href='https://wandb.ai/ertveh-4-lule-university-of-technology/lab2/runs/uzjx29lr' target=\"_blank\">https://wandb.ai/ertveh-4-lule-university-of-technology/lab2/runs/uzjx29lr</a>"
            ]
          },
          "metadata": {}
        },
        {
          "output_type": "stream",
          "name": "stderr",
          "text": [
            "100%|██████████| 938/938 [00:11<00:00, 82.42it/s]\n"
          ]
        },
        {
          "output_type": "stream",
          "name": "stdout",
          "text": [
            "epoch0; D_loss: 0.0601; G_loss: 5.8810\n",
            "Saved Best Models at epoch 0 | G_loss: 5.8810\n"
          ]
        },
        {
          "output_type": "stream",
          "name": "stderr",
          "text": [
            "100%|██████████| 938/938 [00:11<00:00, 83.95it/s]\n"
          ]
        },
        {
          "output_type": "stream",
          "name": "stdout",
          "text": [
            "epoch1; D_loss: 0.0191; G_loss: 6.1926\n"
          ]
        },
        {
          "output_type": "stream",
          "name": "stderr",
          "text": [
            "100%|██████████| 938/938 [00:11<00:00, 83.63it/s]\n"
          ]
        },
        {
          "output_type": "stream",
          "name": "stdout",
          "text": [
            "epoch2; D_loss: 0.0250; G_loss: 5.4083\n",
            "Saved Best Models at epoch 2 | G_loss: 5.4083\n"
          ]
        },
        {
          "output_type": "stream",
          "name": "stderr",
          "text": [
            "100%|██████████| 938/938 [00:11<00:00, 83.79it/s]\n"
          ]
        },
        {
          "output_type": "stream",
          "name": "stdout",
          "text": [
            "epoch3; D_loss: 0.0546; G_loss: 5.6266\n"
          ]
        },
        {
          "output_type": "stream",
          "name": "stderr",
          "text": [
            "100%|██████████| 938/938 [00:11<00:00, 83.56it/s]\n"
          ]
        },
        {
          "output_type": "stream",
          "name": "stdout",
          "text": [
            "epoch4; D_loss: 0.1447; G_loss: 4.6708\n",
            "Saved Best Models at epoch 4 | G_loss: 4.6708\n"
          ]
        },
        {
          "output_type": "stream",
          "name": "stderr",
          "text": [
            "100%|██████████| 938/938 [00:11<00:00, 83.70it/s]\n"
          ]
        },
        {
          "output_type": "stream",
          "name": "stdout",
          "text": [
            "epoch5; D_loss: 0.2349; G_loss: 3.9903\n",
            "Saved Best Models at epoch 5 | G_loss: 3.9903\n"
          ]
        },
        {
          "output_type": "stream",
          "name": "stderr",
          "text": [
            "100%|██████████| 938/938 [00:11<00:00, 83.79it/s]\n"
          ]
        },
        {
          "output_type": "stream",
          "name": "stdout",
          "text": [
            "epoch6; D_loss: 0.3488; G_loss: 3.6006\n",
            "Saved Best Models at epoch 6 | G_loss: 3.6006\n"
          ]
        },
        {
          "output_type": "stream",
          "name": "stderr",
          "text": [
            "100%|██████████| 938/938 [00:11<00:00, 84.80it/s]\n"
          ]
        },
        {
          "output_type": "stream",
          "name": "stdout",
          "text": [
            "epoch7; D_loss: 0.4043; G_loss: 3.0775\n",
            "Saved Best Models at epoch 7 | G_loss: 3.0775\n"
          ]
        },
        {
          "output_type": "stream",
          "name": "stderr",
          "text": [
            "100%|██████████| 938/938 [00:11<00:00, 84.39it/s]\n"
          ]
        },
        {
          "output_type": "stream",
          "name": "stdout",
          "text": [
            "epoch8; D_loss: 0.4863; G_loss: 2.7109\n",
            "Saved Best Models at epoch 8 | G_loss: 2.7109\n"
          ]
        },
        {
          "output_type": "stream",
          "name": "stderr",
          "text": [
            "100%|██████████| 938/938 [00:11<00:00, 84.68it/s]\n"
          ]
        },
        {
          "output_type": "stream",
          "name": "stdout",
          "text": [
            "epoch9; D_loss: 0.5387; G_loss: 2.6499\n",
            "Saved Best Models at epoch 9 | G_loss: 2.6499\n"
          ]
        },
        {
          "output_type": "stream",
          "name": "stderr",
          "text": [
            "100%|██████████| 938/938 [00:11<00:00, 84.57it/s]\n"
          ]
        },
        {
          "output_type": "stream",
          "name": "stdout",
          "text": [
            "epoch10; D_loss: 0.5909; G_loss: 2.4702\n",
            "Saved Best Models at epoch 10 | G_loss: 2.4702\n"
          ]
        },
        {
          "output_type": "stream",
          "name": "stderr",
          "text": [
            "100%|██████████| 938/938 [00:11<00:00, 84.77it/s]\n"
          ]
        },
        {
          "output_type": "stream",
          "name": "stdout",
          "text": [
            "epoch11; D_loss: 0.6258; G_loss: 2.3390\n",
            "Saved Best Models at epoch 11 | G_loss: 2.3390\n"
          ]
        },
        {
          "output_type": "stream",
          "name": "stderr",
          "text": [
            "100%|██████████| 938/938 [00:11<00:00, 84.23it/s]\n"
          ]
        },
        {
          "output_type": "stream",
          "name": "stdout",
          "text": [
            "epoch12; D_loss: 0.6312; G_loss: 2.1814\n",
            "Saved Best Models at epoch 12 | G_loss: 2.1814\n"
          ]
        },
        {
          "output_type": "stream",
          "name": "stderr",
          "text": [
            "100%|██████████| 938/938 [00:11<00:00, 84.05it/s]\n"
          ]
        },
        {
          "output_type": "stream",
          "name": "stdout",
          "text": [
            "epoch13; D_loss: 0.6295; G_loss: 2.1229\n",
            "Saved Best Models at epoch 13 | G_loss: 2.1229\n"
          ]
        },
        {
          "output_type": "stream",
          "name": "stderr",
          "text": [
            "100%|██████████| 938/938 [00:11<00:00, 84.08it/s]\n"
          ]
        },
        {
          "output_type": "stream",
          "name": "stdout",
          "text": [
            "epoch14; D_loss: 0.6336; G_loss: 2.1901\n"
          ]
        },
        {
          "output_type": "stream",
          "name": "stderr",
          "text": [
            "100%|██████████| 938/938 [00:11<00:00, 84.26it/s]\n"
          ]
        },
        {
          "output_type": "stream",
          "name": "stdout",
          "text": [
            "epoch15; D_loss: 0.6437; G_loss: 2.1698\n"
          ]
        },
        {
          "output_type": "stream",
          "name": "stderr",
          "text": [
            "100%|██████████| 938/938 [00:11<00:00, 84.16it/s]\n"
          ]
        },
        {
          "output_type": "stream",
          "name": "stdout",
          "text": [
            "epoch16; D_loss: 0.6480; G_loss: 2.1885\n"
          ]
        },
        {
          "output_type": "stream",
          "name": "stderr",
          "text": [
            "100%|██████████| 938/938 [00:11<00:00, 83.73it/s]\n"
          ]
        },
        {
          "output_type": "stream",
          "name": "stdout",
          "text": [
            "epoch17; D_loss: 0.6585; G_loss: 2.1740\n"
          ]
        },
        {
          "output_type": "stream",
          "name": "stderr",
          "text": [
            "100%|██████████| 938/938 [00:11<00:00, 84.01it/s]\n"
          ]
        },
        {
          "output_type": "stream",
          "name": "stdout",
          "text": [
            "epoch18; D_loss: 0.6577; G_loss: 2.1205\n",
            "Saved Best Models at epoch 18 | G_loss: 2.1205\n"
          ]
        },
        {
          "output_type": "stream",
          "name": "stderr",
          "text": [
            "100%|██████████| 938/938 [00:11<00:00, 83.83it/s]\n"
          ]
        },
        {
          "output_type": "stream",
          "name": "stdout",
          "text": [
            "epoch19; D_loss: 0.6573; G_loss: 2.1339\n"
          ]
        },
        {
          "output_type": "stream",
          "name": "stderr",
          "text": [
            "100%|██████████| 938/938 [00:11<00:00, 83.94it/s]\n"
          ]
        },
        {
          "output_type": "stream",
          "name": "stdout",
          "text": [
            "epoch20; D_loss: 0.6636; G_loss: 2.1408\n"
          ]
        },
        {
          "output_type": "stream",
          "name": "stderr",
          "text": [
            "100%|██████████| 938/938 [00:11<00:00, 83.82it/s]\n"
          ]
        },
        {
          "output_type": "stream",
          "name": "stdout",
          "text": [
            "epoch21; D_loss: 0.6769; G_loss: 2.1043\n",
            "Saved Best Models at epoch 21 | G_loss: 2.1043\n"
          ]
        },
        {
          "output_type": "stream",
          "name": "stderr",
          "text": [
            "100%|██████████| 938/938 [00:11<00:00, 83.60it/s]\n"
          ]
        },
        {
          "output_type": "stream",
          "name": "stdout",
          "text": [
            "epoch22; D_loss: 0.6819; G_loss: 2.0865\n",
            "Saved Best Models at epoch 22 | G_loss: 2.0865\n"
          ]
        },
        {
          "output_type": "stream",
          "name": "stderr",
          "text": [
            "100%|██████████| 938/938 [00:11<00:00, 83.72it/s]\n"
          ]
        },
        {
          "output_type": "stream",
          "name": "stdout",
          "text": [
            "epoch23; D_loss: 0.6771; G_loss: 2.0802\n",
            "Saved Best Models at epoch 23 | G_loss: 2.0802\n"
          ]
        },
        {
          "output_type": "stream",
          "name": "stderr",
          "text": [
            "100%|██████████| 938/938 [00:11<00:00, 83.70it/s]\n"
          ]
        },
        {
          "output_type": "stream",
          "name": "stdout",
          "text": [
            "epoch24; D_loss: 0.6703; G_loss: 2.1141\n"
          ]
        },
        {
          "output_type": "stream",
          "name": "stderr",
          "text": [
            "100%|██████████| 938/938 [00:11<00:00, 83.79it/s]\n"
          ]
        },
        {
          "output_type": "stream",
          "name": "stdout",
          "text": [
            "epoch25; D_loss: 0.6559; G_loss: 2.1460\n"
          ]
        },
        {
          "output_type": "stream",
          "name": "stderr",
          "text": [
            "100%|██████████| 938/938 [00:11<00:00, 83.43it/s]\n"
          ]
        },
        {
          "output_type": "stream",
          "name": "stdout",
          "text": [
            "epoch26; D_loss: 0.6557; G_loss: 2.1514\n"
          ]
        },
        {
          "output_type": "stream",
          "name": "stderr",
          "text": [
            "100%|██████████| 938/938 [00:11<00:00, 83.41it/s]\n"
          ]
        },
        {
          "output_type": "stream",
          "name": "stdout",
          "text": [
            "epoch27; D_loss: 0.6590; G_loss: 2.1527\n"
          ]
        },
        {
          "output_type": "stream",
          "name": "stderr",
          "text": [
            "100%|██████████| 938/938 [00:11<00:00, 83.89it/s]\n"
          ]
        },
        {
          "output_type": "stream",
          "name": "stdout",
          "text": [
            "epoch28; D_loss: 0.6419; G_loss: 2.1879\n"
          ]
        },
        {
          "output_type": "stream",
          "name": "stderr",
          "text": [
            "100%|██████████| 938/938 [00:11<00:00, 83.24it/s]\n"
          ]
        },
        {
          "output_type": "stream",
          "name": "stdout",
          "text": [
            "epoch29; D_loss: 0.6305; G_loss: 2.2268\n"
          ]
        },
        {
          "output_type": "stream",
          "name": "stderr",
          "text": [
            "100%|██████████| 938/938 [00:11<00:00, 83.60it/s]\n"
          ]
        },
        {
          "output_type": "stream",
          "name": "stdout",
          "text": [
            "epoch30; D_loss: 0.6217; G_loss: 2.2641\n"
          ]
        },
        {
          "output_type": "stream",
          "name": "stderr",
          "text": [
            "100%|██████████| 938/938 [00:11<00:00, 83.52it/s]\n"
          ]
        },
        {
          "output_type": "stream",
          "name": "stdout",
          "text": [
            "epoch31; D_loss: 0.6154; G_loss: 2.3077\n"
          ]
        },
        {
          "output_type": "stream",
          "name": "stderr",
          "text": [
            "100%|██████████| 938/938 [00:11<00:00, 83.07it/s]\n"
          ]
        },
        {
          "output_type": "stream",
          "name": "stdout",
          "text": [
            "epoch32; D_loss: 0.6089; G_loss: 2.3386\n"
          ]
        },
        {
          "output_type": "stream",
          "name": "stderr",
          "text": [
            "100%|██████████| 938/938 [00:11<00:00, 83.96it/s]\n"
          ]
        },
        {
          "output_type": "stream",
          "name": "stdout",
          "text": [
            "epoch33; D_loss: 0.5959; G_loss: 2.3766\n"
          ]
        },
        {
          "output_type": "stream",
          "name": "stderr",
          "text": [
            "100%|██████████| 938/938 [00:11<00:00, 84.33it/s]\n"
          ]
        },
        {
          "output_type": "stream",
          "name": "stdout",
          "text": [
            "epoch34; D_loss: 0.5941; G_loss: 2.4137\n"
          ]
        },
        {
          "output_type": "stream",
          "name": "stderr",
          "text": [
            "100%|██████████| 938/938 [00:11<00:00, 83.40it/s]\n"
          ]
        },
        {
          "output_type": "stream",
          "name": "stdout",
          "text": [
            "epoch35; D_loss: 0.5904; G_loss: 2.4296\n"
          ]
        },
        {
          "output_type": "stream",
          "name": "stderr",
          "text": [
            "100%|██████████| 938/938 [00:11<00:00, 83.40it/s]\n"
          ]
        },
        {
          "output_type": "stream",
          "name": "stdout",
          "text": [
            "epoch36; D_loss: 0.5882; G_loss: 2.4838\n"
          ]
        },
        {
          "output_type": "stream",
          "name": "stderr",
          "text": [
            "100%|██████████| 938/938 [00:11<00:00, 84.36it/s]\n"
          ]
        },
        {
          "output_type": "stream",
          "name": "stdout",
          "text": [
            "epoch37; D_loss: 0.5806; G_loss: 2.4992\n"
          ]
        },
        {
          "output_type": "stream",
          "name": "stderr",
          "text": [
            "100%|██████████| 938/938 [00:11<00:00, 84.07it/s]\n"
          ]
        },
        {
          "output_type": "stream",
          "name": "stdout",
          "text": [
            "epoch38; D_loss: 0.5803; G_loss: 2.5558\n"
          ]
        },
        {
          "output_type": "stream",
          "name": "stderr",
          "text": [
            "100%|██████████| 938/938 [00:11<00:00, 84.34it/s]\n"
          ]
        },
        {
          "output_type": "stream",
          "name": "stdout",
          "text": [
            "epoch39; D_loss: 0.5719; G_loss: 2.5510\n"
          ]
        },
        {
          "output_type": "stream",
          "name": "stderr",
          "text": [
            "100%|██████████| 938/938 [00:11<00:00, 83.74it/s]\n"
          ]
        },
        {
          "output_type": "stream",
          "name": "stdout",
          "text": [
            "epoch40; D_loss: 0.5704; G_loss: 2.5845\n"
          ]
        },
        {
          "output_type": "stream",
          "name": "stderr",
          "text": [
            "100%|██████████| 938/938 [00:11<00:00, 83.99it/s]\n"
          ]
        },
        {
          "output_type": "stream",
          "name": "stdout",
          "text": [
            "epoch41; D_loss: 0.5655; G_loss: 2.5856\n"
          ]
        },
        {
          "output_type": "stream",
          "name": "stderr",
          "text": [
            "100%|██████████| 938/938 [00:11<00:00, 83.43it/s]\n"
          ]
        },
        {
          "output_type": "stream",
          "name": "stdout",
          "text": [
            "epoch42; D_loss: 0.5625; G_loss: 2.6072\n"
          ]
        },
        {
          "output_type": "stream",
          "name": "stderr",
          "text": [
            "100%|██████████| 938/938 [00:11<00:00, 84.01it/s]\n"
          ]
        },
        {
          "output_type": "stream",
          "name": "stdout",
          "text": [
            "epoch43; D_loss: 0.5596; G_loss: 2.6275\n"
          ]
        },
        {
          "output_type": "stream",
          "name": "stderr",
          "text": [
            "100%|██████████| 938/938 [00:11<00:00, 82.60it/s]\n"
          ]
        },
        {
          "output_type": "stream",
          "name": "stdout",
          "text": [
            "epoch44; D_loss: 0.5585; G_loss: 2.6295\n"
          ]
        },
        {
          "output_type": "stream",
          "name": "stderr",
          "text": [
            "100%|██████████| 938/938 [00:11<00:00, 82.88it/s]\n"
          ]
        },
        {
          "output_type": "stream",
          "name": "stdout",
          "text": [
            "epoch45; D_loss: 0.5519; G_loss: 2.6450\n"
          ]
        },
        {
          "output_type": "stream",
          "name": "stderr",
          "text": [
            "100%|██████████| 938/938 [00:11<00:00, 83.96it/s]\n"
          ]
        },
        {
          "output_type": "stream",
          "name": "stdout",
          "text": [
            "epoch46; D_loss: 0.5471; G_loss: 2.6450\n"
          ]
        },
        {
          "output_type": "stream",
          "name": "stderr",
          "text": [
            "100%|██████████| 938/938 [00:11<00:00, 84.40it/s]\n"
          ]
        },
        {
          "output_type": "stream",
          "name": "stdout",
          "text": [
            "epoch47; D_loss: 0.5449; G_loss: 2.6541\n"
          ]
        },
        {
          "output_type": "stream",
          "name": "stderr",
          "text": [
            "100%|██████████| 938/938 [00:11<00:00, 83.52it/s]\n"
          ]
        },
        {
          "output_type": "stream",
          "name": "stdout",
          "text": [
            "epoch48; D_loss: 0.5478; G_loss: 2.6675\n"
          ]
        },
        {
          "output_type": "stream",
          "name": "stderr",
          "text": [
            "100%|██████████| 938/938 [00:11<00:00, 83.86it/s]\n"
          ]
        },
        {
          "output_type": "stream",
          "name": "stdout",
          "text": [
            "epoch49; D_loss: 0.5439; G_loss: 2.6808\n"
          ]
        },
        {
          "output_type": "stream",
          "name": "stderr",
          "text": [
            "100%|██████████| 938/938 [00:11<00:00, 83.77it/s]\n"
          ]
        },
        {
          "output_type": "stream",
          "name": "stdout",
          "text": [
            "epoch50; D_loss: 0.5435; G_loss: 2.6830\n"
          ]
        },
        {
          "output_type": "stream",
          "name": "stderr",
          "text": [
            "100%|██████████| 938/938 [00:11<00:00, 84.34it/s]\n"
          ]
        },
        {
          "output_type": "stream",
          "name": "stdout",
          "text": [
            "epoch51; D_loss: 0.5402; G_loss: 2.6843\n"
          ]
        },
        {
          "output_type": "stream",
          "name": "stderr",
          "text": [
            "100%|██████████| 938/938 [00:11<00:00, 84.21it/s]\n"
          ]
        },
        {
          "output_type": "stream",
          "name": "stdout",
          "text": [
            "epoch52; D_loss: 0.5375; G_loss: 2.6901\n"
          ]
        },
        {
          "output_type": "stream",
          "name": "stderr",
          "text": [
            "100%|██████████| 938/938 [00:11<00:00, 84.17it/s]\n"
          ]
        },
        {
          "output_type": "stream",
          "name": "stdout",
          "text": [
            "epoch53; D_loss: 0.5314; G_loss: 2.6956\n"
          ]
        },
        {
          "output_type": "stream",
          "name": "stderr",
          "text": [
            "100%|██████████| 938/938 [00:11<00:00, 84.00it/s]\n"
          ]
        },
        {
          "output_type": "stream",
          "name": "stdout",
          "text": [
            "epoch54; D_loss: 0.5288; G_loss: 2.6962\n"
          ]
        },
        {
          "output_type": "stream",
          "name": "stderr",
          "text": [
            "100%|██████████| 938/938 [00:11<00:00, 83.60it/s]\n"
          ]
        },
        {
          "output_type": "stream",
          "name": "stdout",
          "text": [
            "epoch55; D_loss: 0.5251; G_loss: 2.7059\n"
          ]
        },
        {
          "output_type": "stream",
          "name": "stderr",
          "text": [
            "100%|██████████| 938/938 [00:11<00:00, 84.20it/s]\n"
          ]
        },
        {
          "output_type": "stream",
          "name": "stdout",
          "text": [
            "epoch56; D_loss: 0.5214; G_loss: 2.7182\n"
          ]
        },
        {
          "output_type": "stream",
          "name": "stderr",
          "text": [
            "100%|██████████| 938/938 [00:11<00:00, 84.39it/s]\n"
          ]
        },
        {
          "output_type": "stream",
          "name": "stdout",
          "text": [
            "epoch57; D_loss: 0.5196; G_loss: 2.7193\n"
          ]
        },
        {
          "output_type": "stream",
          "name": "stderr",
          "text": [
            "100%|██████████| 938/938 [00:11<00:00, 83.95it/s]\n"
          ]
        },
        {
          "output_type": "stream",
          "name": "stdout",
          "text": [
            "epoch58; D_loss: 0.5155; G_loss: 2.7275\n"
          ]
        },
        {
          "output_type": "stream",
          "name": "stderr",
          "text": [
            "100%|██████████| 938/938 [00:11<00:00, 84.21it/s]\n"
          ]
        },
        {
          "output_type": "stream",
          "name": "stdout",
          "text": [
            "epoch59; D_loss: 0.5095; G_loss: 2.7215\n"
          ]
        },
        {
          "output_type": "stream",
          "name": "stderr",
          "text": [
            "100%|██████████| 938/938 [00:11<00:00, 83.66it/s]\n"
          ]
        },
        {
          "output_type": "stream",
          "name": "stdout",
          "text": [
            "epoch60; D_loss: 0.5050; G_loss: 2.7433\n"
          ]
        },
        {
          "output_type": "stream",
          "name": "stderr",
          "text": [
            "100%|██████████| 938/938 [00:11<00:00, 83.89it/s]\n"
          ]
        },
        {
          "output_type": "stream",
          "name": "stdout",
          "text": [
            "epoch61; D_loss: 0.4991; G_loss: 2.7376\n"
          ]
        },
        {
          "output_type": "stream",
          "name": "stderr",
          "text": [
            "100%|██████████| 938/938 [00:11<00:00, 83.49it/s]\n"
          ]
        },
        {
          "output_type": "stream",
          "name": "stdout",
          "text": [
            "epoch62; D_loss: 0.4960; G_loss: 2.7654\n"
          ]
        },
        {
          "output_type": "stream",
          "name": "stderr",
          "text": [
            "100%|██████████| 938/938 [00:11<00:00, 83.53it/s]\n"
          ]
        },
        {
          "output_type": "stream",
          "name": "stdout",
          "text": [
            "epoch63; D_loss: 0.4894; G_loss: 2.7893\n"
          ]
        },
        {
          "output_type": "stream",
          "name": "stderr",
          "text": [
            "100%|██████████| 938/938 [00:11<00:00, 84.06it/s]\n"
          ]
        },
        {
          "output_type": "stream",
          "name": "stdout",
          "text": [
            "epoch64; D_loss: 0.4890; G_loss: 2.7817\n"
          ]
        },
        {
          "output_type": "stream",
          "name": "stderr",
          "text": [
            "100%|██████████| 938/938 [00:11<00:00, 84.25it/s]\n"
          ]
        },
        {
          "output_type": "stream",
          "name": "stdout",
          "text": [
            "epoch65; D_loss: 0.4868; G_loss: 2.7942\n"
          ]
        },
        {
          "output_type": "stream",
          "name": "stderr",
          "text": [
            "100%|██████████| 938/938 [00:11<00:00, 83.29it/s]\n"
          ]
        },
        {
          "output_type": "stream",
          "name": "stdout",
          "text": [
            "epoch66; D_loss: 0.4841; G_loss: 2.7899\n"
          ]
        },
        {
          "output_type": "stream",
          "name": "stderr",
          "text": [
            "100%|██████████| 938/938 [00:11<00:00, 83.66it/s]\n"
          ]
        },
        {
          "output_type": "stream",
          "name": "stdout",
          "text": [
            "epoch67; D_loss: 0.4796; G_loss: 2.8057\n"
          ]
        },
        {
          "output_type": "stream",
          "name": "stderr",
          "text": [
            "100%|██████████| 938/938 [00:11<00:00, 83.64it/s]\n"
          ]
        },
        {
          "output_type": "stream",
          "name": "stdout",
          "text": [
            "epoch68; D_loss: 0.4750; G_loss: 2.8248\n"
          ]
        },
        {
          "output_type": "stream",
          "name": "stderr",
          "text": [
            "100%|██████████| 938/938 [00:11<00:00, 83.67it/s]\n"
          ]
        },
        {
          "output_type": "stream",
          "name": "stdout",
          "text": [
            "epoch69; D_loss: 0.4728; G_loss: 2.8389\n"
          ]
        },
        {
          "output_type": "stream",
          "name": "stderr",
          "text": [
            "100%|██████████| 938/938 [00:11<00:00, 83.70it/s]\n"
          ]
        },
        {
          "output_type": "stream",
          "name": "stdout",
          "text": [
            "epoch70; D_loss: 0.4670; G_loss: 2.8475\n"
          ]
        },
        {
          "output_type": "stream",
          "name": "stderr",
          "text": [
            "100%|██████████| 938/938 [00:11<00:00, 83.83it/s]\n"
          ]
        },
        {
          "output_type": "stream",
          "name": "stdout",
          "text": [
            "epoch71; D_loss: 0.4656; G_loss: 2.8834\n"
          ]
        },
        {
          "output_type": "stream",
          "name": "stderr",
          "text": [
            "100%|██████████| 938/938 [00:11<00:00, 83.22it/s]\n"
          ]
        },
        {
          "output_type": "stream",
          "name": "stdout",
          "text": [
            "epoch72; D_loss: 0.4607; G_loss: 2.8503\n"
          ]
        },
        {
          "output_type": "stream",
          "name": "stderr",
          "text": [
            "100%|██████████| 938/938 [00:11<00:00, 84.15it/s]\n"
          ]
        },
        {
          "output_type": "stream",
          "name": "stdout",
          "text": [
            "epoch73; D_loss: 0.4609; G_loss: 2.8798\n"
          ]
        },
        {
          "output_type": "stream",
          "name": "stderr",
          "text": [
            "100%|██████████| 938/938 [00:11<00:00, 84.41it/s]\n"
          ]
        },
        {
          "output_type": "stream",
          "name": "stdout",
          "text": [
            "epoch74; D_loss: 0.4546; G_loss: 2.8927\n"
          ]
        },
        {
          "output_type": "stream",
          "name": "stderr",
          "text": [
            "100%|██████████| 938/938 [00:11<00:00, 83.84it/s]\n"
          ]
        },
        {
          "output_type": "stream",
          "name": "stdout",
          "text": [
            "epoch75; D_loss: 0.4518; G_loss: 2.9185\n"
          ]
        },
        {
          "output_type": "stream",
          "name": "stderr",
          "text": [
            "100%|██████████| 938/938 [00:11<00:00, 83.80it/s]\n"
          ]
        },
        {
          "output_type": "stream",
          "name": "stdout",
          "text": [
            "epoch76; D_loss: 0.4509; G_loss: 2.9060\n"
          ]
        },
        {
          "output_type": "stream",
          "name": "stderr",
          "text": [
            "100%|██████████| 938/938 [00:11<00:00, 83.15it/s]\n"
          ]
        },
        {
          "output_type": "stream",
          "name": "stdout",
          "text": [
            "epoch77; D_loss: 0.4458; G_loss: 2.9199\n"
          ]
        },
        {
          "output_type": "stream",
          "name": "stderr",
          "text": [
            "100%|██████████| 938/938 [00:11<00:00, 84.06it/s]\n"
          ]
        },
        {
          "output_type": "stream",
          "name": "stdout",
          "text": [
            "epoch78; D_loss: 0.4459; G_loss: 2.9317\n"
          ]
        },
        {
          "output_type": "stream",
          "name": "stderr",
          "text": [
            "100%|██████████| 938/938 [00:11<00:00, 83.83it/s]\n"
          ]
        },
        {
          "output_type": "stream",
          "name": "stdout",
          "text": [
            "epoch79; D_loss: 0.4422; G_loss: 2.9382\n"
          ]
        },
        {
          "output_type": "stream",
          "name": "stderr",
          "text": [
            "100%|██████████| 938/938 [00:11<00:00, 83.71it/s]\n"
          ]
        },
        {
          "output_type": "stream",
          "name": "stdout",
          "text": [
            "epoch80; D_loss: 0.4390; G_loss: 2.9711\n"
          ]
        },
        {
          "output_type": "stream",
          "name": "stderr",
          "text": [
            "100%|██████████| 938/938 [00:11<00:00, 83.83it/s]\n"
          ]
        },
        {
          "output_type": "stream",
          "name": "stdout",
          "text": [
            "epoch81; D_loss: 0.4359; G_loss: 2.9422\n"
          ]
        },
        {
          "output_type": "stream",
          "name": "stderr",
          "text": [
            "100%|██████████| 938/938 [00:11<00:00, 83.28it/s]\n"
          ]
        },
        {
          "output_type": "stream",
          "name": "stdout",
          "text": [
            "epoch82; D_loss: 0.4341; G_loss: 2.9832\n"
          ]
        },
        {
          "output_type": "stream",
          "name": "stderr",
          "text": [
            "100%|██████████| 938/938 [00:11<00:00, 83.71it/s]\n"
          ]
        },
        {
          "output_type": "stream",
          "name": "stdout",
          "text": [
            "epoch83; D_loss: 0.4376; G_loss: 2.9782\n"
          ]
        },
        {
          "output_type": "stream",
          "name": "stderr",
          "text": [
            "100%|██████████| 938/938 [00:11<00:00, 83.32it/s]\n"
          ]
        },
        {
          "output_type": "stream",
          "name": "stdout",
          "text": [
            "epoch84; D_loss: 0.4321; G_loss: 2.9953\n"
          ]
        },
        {
          "output_type": "stream",
          "name": "stderr",
          "text": [
            "100%|██████████| 938/938 [00:11<00:00, 83.71it/s]\n"
          ]
        },
        {
          "output_type": "stream",
          "name": "stdout",
          "text": [
            "epoch85; D_loss: 0.4272; G_loss: 2.9984\n"
          ]
        },
        {
          "output_type": "stream",
          "name": "stderr",
          "text": [
            "100%|██████████| 938/938 [00:11<00:00, 83.43it/s]\n"
          ]
        },
        {
          "output_type": "stream",
          "name": "stdout",
          "text": [
            "epoch86; D_loss: 0.4251; G_loss: 2.9928\n"
          ]
        },
        {
          "output_type": "stream",
          "name": "stderr",
          "text": [
            "100%|██████████| 938/938 [00:11<00:00, 83.67it/s]\n"
          ]
        },
        {
          "output_type": "stream",
          "name": "stdout",
          "text": [
            "epoch87; D_loss: 0.4190; G_loss: 3.0092\n"
          ]
        },
        {
          "output_type": "stream",
          "name": "stderr",
          "text": [
            "100%|██████████| 938/938 [00:11<00:00, 83.88it/s]\n"
          ]
        },
        {
          "output_type": "stream",
          "name": "stdout",
          "text": [
            "epoch88; D_loss: 0.4184; G_loss: 3.0206\n"
          ]
        },
        {
          "output_type": "stream",
          "name": "stderr",
          "text": [
            "100%|██████████| 938/938 [00:11<00:00, 84.38it/s]\n"
          ]
        },
        {
          "output_type": "stream",
          "name": "stdout",
          "text": [
            "epoch89; D_loss: 0.4183; G_loss: 3.0278\n"
          ]
        },
        {
          "output_type": "stream",
          "name": "stderr",
          "text": [
            "100%|██████████| 938/938 [00:11<00:00, 83.73it/s]\n"
          ]
        },
        {
          "output_type": "stream",
          "name": "stdout",
          "text": [
            "epoch90; D_loss: 0.4142; G_loss: 3.0460\n"
          ]
        },
        {
          "output_type": "stream",
          "name": "stderr",
          "text": [
            "100%|██████████| 938/938 [00:11<00:00, 83.55it/s]\n"
          ]
        },
        {
          "output_type": "stream",
          "name": "stdout",
          "text": [
            "epoch91; D_loss: 0.4146; G_loss: 3.0392\n"
          ]
        },
        {
          "output_type": "stream",
          "name": "stderr",
          "text": [
            "100%|██████████| 938/938 [00:11<00:00, 83.35it/s]\n"
          ]
        },
        {
          "output_type": "stream",
          "name": "stdout",
          "text": [
            "epoch92; D_loss: 0.4066; G_loss: 3.0358\n"
          ]
        },
        {
          "output_type": "stream",
          "name": "stderr",
          "text": [
            "100%|██████████| 938/938 [00:11<00:00, 83.93it/s]\n"
          ]
        },
        {
          "output_type": "stream",
          "name": "stdout",
          "text": [
            "epoch93; D_loss: 0.4100; G_loss: 3.0816\n"
          ]
        },
        {
          "output_type": "stream",
          "name": "stderr",
          "text": [
            "100%|██████████| 938/938 [00:11<00:00, 83.53it/s]\n"
          ]
        },
        {
          "output_type": "stream",
          "name": "stdout",
          "text": [
            "epoch94; D_loss: 0.4042; G_loss: 3.0597\n"
          ]
        },
        {
          "output_type": "stream",
          "name": "stderr",
          "text": [
            "100%|██████████| 938/938 [00:11<00:00, 82.82it/s]\n"
          ]
        },
        {
          "output_type": "stream",
          "name": "stdout",
          "text": [
            "epoch95; D_loss: 0.4037; G_loss: 3.0958\n"
          ]
        },
        {
          "output_type": "stream",
          "name": "stderr",
          "text": [
            "100%|██████████| 938/938 [00:11<00:00, 83.42it/s]\n"
          ]
        },
        {
          "output_type": "stream",
          "name": "stdout",
          "text": [
            "epoch96; D_loss: 0.4046; G_loss: 3.1248\n"
          ]
        },
        {
          "output_type": "stream",
          "name": "stderr",
          "text": [
            "100%|██████████| 938/938 [00:11<00:00, 83.76it/s]\n"
          ]
        },
        {
          "output_type": "stream",
          "name": "stdout",
          "text": [
            "epoch97; D_loss: 0.4021; G_loss: 3.1085\n"
          ]
        },
        {
          "output_type": "stream",
          "name": "stderr",
          "text": [
            "100%|██████████| 938/938 [00:11<00:00, 83.82it/s]\n"
          ]
        },
        {
          "output_type": "stream",
          "name": "stdout",
          "text": [
            "epoch98; D_loss: 0.3963; G_loss: 3.1094\n"
          ]
        },
        {
          "output_type": "stream",
          "name": "stderr",
          "text": [
            "100%|██████████| 938/938 [00:11<00:00, 84.05it/s]\n"
          ]
        },
        {
          "output_type": "stream",
          "name": "stdout",
          "text": [
            "epoch99; D_loss: 0.3952; G_loss: 3.1256\n"
          ]
        }
      ],
      "source": [
        "########################### Main #######################################\n",
        "wandb_log = True\n",
        "device = torch.device(\"cuda:0\" if torch.cuda.is_available() else \"cpu\")\n",
        "print(device)\n",
        "\n",
        "# Instantiate models\n",
        "G = Generator(Z_dim, h_dim, X_dim).to(device)\n",
        "D = Discriminator(X_dim, h_dim).to(device)\n",
        "\n",
        "# Optimizers\n",
        "G_solver = optim.Adam(G.parameters(), lr=lr)\n",
        "D_solver = optim.Adam(D.parameters(), lr=lr)\n",
        "\n",
        "\n",
        "# Contextual Loss (L1 on known pixels)\n",
        "def contextual_loss(x_generated, x_original, mask):\n",
        "    diff = torch.abs(x_generated - x_original)  # absolute difference\n",
        "    masked_diff = diff * mask  # only focus on known pixels\n",
        "    return masked_diff.sum() / (mask.sum() + 1e-8)  # mean over valid pixels\n",
        "\n",
        "# Perceptual Loss (standard GAN fooling loss)\n",
        "def perceptual_loss(D_fake):\n",
        "    return F.binary_cross_entropy(D_fake, torch.ones_like(D_fake))\n",
        "\n",
        "# Generator total loss\n",
        "def generator_total_loss(x_generated, x_original, mask, D_fake, lambda_contextual=0.1):\n",
        "    c_loss = contextual_loss(x_generated, x_original, mask)\n",
        "    p_loss = perceptual_loss(D_fake)\n",
        "    return lambda_contextual * c_loss + (1.0 - lambda_contextual) * p_loss\n",
        "\n",
        "# Discriminator loss (standard GAN loss)\n",
        "def discriminator_loss(D_real, D_fake):\n",
        "    real_loss = F.binary_cross_entropy(D_real, torch.ones_like(D_real))\n",
        "    fake_loss = F.binary_cross_entropy(D_fake, torch.zeros_like(D_fake))\n",
        "    return (real_loss + fake_loss) / 2\n",
        "\n",
        "\n",
        "loss_d = discriminator_loss  # new\n",
        "loss_g = generator_total_loss  # new\n",
        "\n",
        "\n",
        "if wandb_log:\n",
        "    wandb.init(project=\"lab2\")  # 👈 Add mode=\"disabled\"\n",
        "\n",
        "    # Log hyperparameters\n",
        "    wandb.config.update({\n",
        "        \"batch_size\": mb_size,\n",
        "        \"Z_dim\": Z_dim,\n",
        "        \"X_dim\": X_dim,\n",
        "        \"h_dim\": h_dim,\n",
        "        \"lr\": lr,\n",
        "    })\n",
        "\n",
        "\n",
        "best_g_loss = float('inf')  # Initialize best generator loss\n",
        "save_dir = 'checkpoints_logistic'\n",
        "os.makedirs(save_dir, exist_ok=True)\n",
        "\n",
        "#Train epochs\n",
        "epochs = 100\n",
        "\n",
        "for epoch in range(epochs):\n",
        "    G, D, G_loss_avg, D_loss_avg= cGANTraining_log(G, D,D_solver,G_solver ,loss_d,loss_g, train_loader)\n",
        "\n",
        "    print(f'epoch{epoch}; D_loss: {D_loss_avg:.4f}; G_loss: {G_loss_avg:.4f}')\n",
        "\n",
        "    if G_loss_avg < best_g_loss:\n",
        "        best_g_loss = G_loss_avg\n",
        "        torch.save(G.state_dict(), os.path.join(save_dir, 'G_best_logistic.pth'))\n",
        "        torch.save(D.state_dict(), os.path.join(save_dir, 'D_best_logistic.pth'))\n",
        "        print(f\"Saved Best Models at epoch {epoch} | G_loss: {best_g_loss:.4f}\")\n",
        "\n",
        "    save_sample(G, epoch, mb_size, Z_dim,\"out_vanila_GAN2_logistic\")\n",
        "\n",
        "\n"
      ]
    },
    {
      "cell_type": "code",
      "execution_count": 12,
      "metadata": {
        "id": "32iVgaxOlMXW"
      },
      "outputs": [],
      "source": [
        "# Inference\n",
        "G.load_state_dict(torch.load('checkpoints_logistic/G_best_logistic.pth'))\n",
        "G.eval()\n",
        "\n",
        "save_sample(G, \"best\", mb_size, Z_dim, \"out_vanila_GAN2_logistic\")"
      ]
    },
    {
      "cell_type": "code",
      "execution_count": 12,
      "metadata": {
        "id": "qGg792SRlMpn"
      },
      "outputs": [],
      "source": []
    },
    {
      "cell_type": "markdown",
      "metadata": {
        "id": "Bt68kR9m0LAY"
      },
      "source": [
        "**Task 3**\n"
      ]
    },
    {
      "cell_type": "code",
      "execution_count": 13,
      "metadata": {
        "id": "ux4_nNzr9sOK"
      },
      "outputs": [],
      "source": [
        "class Generator(nn.Module):\n",
        "    def __init__(self, z_dim, label_dim, h_dim, x_dim):\n",
        "        super(Generator, self).__init__()\n",
        "        self.fc1 = nn.Linear(z_dim + label_dim, h_dim)\n",
        "        self.fc2 = nn.Linear(h_dim, x_dim)\n",
        "        self.apply(xavier_init)\n",
        "\n",
        "    def forward(self, z, labels):\n",
        "        # Concatenate noise and label\n",
        "        input = torch.cat([z, labels], dim=1)\n",
        "        h = F.relu(self.fc1(input))\n",
        "        out = torch.sigmoid(self.fc2(h))\n",
        "        return out\n"
      ]
    },
    {
      "cell_type": "code",
      "execution_count": 14,
      "metadata": {
        "id": "VJj8VDZ-9st5"
      },
      "outputs": [],
      "source": [
        "class Discriminator(nn.Module):\n",
        "    def __init__(self, x_dim, label_dim, h_dim):\n",
        "        super(Discriminator, self).__init__()\n",
        "        self.fc1 = nn.Linear(x_dim + label_dim, h_dim)\n",
        "        self.fc2 = nn.Linear(h_dim, 1)\n",
        "        self.apply(xavier_init)\n",
        "\n",
        "    def forward(self, x, labels):\n",
        "        input = torch.cat([x, labels], dim=1)\n",
        "        h = F.relu(self.fc1(input))\n",
        "        out = torch.sigmoid(self.fc2(h))\n",
        "        return out\n"
      ]
    },
    {
      "cell_type": "code",
      "execution_count": 15,
      "metadata": {
        "id": "XRdRJura9xDs"
      },
      "outputs": [],
      "source": [
        "def one_hot(labels, num_classes=10):\n",
        "    return F.one_hot(labels, num_classes).float()\n"
      ]
    },
    {
      "cell_type": "code",
      "execution_count": 16,
      "metadata": {
        "id": "SiKuXCuR-dcr"
      },
      "outputs": [],
      "source": [
        "def save_sample(G, epoch, mb_size, Z_dim, label):\n",
        "    out_dir = \"out_cgan_samples\"\n",
        "    G.eval()\n",
        "    with torch.no_grad():\n",
        "        z = torch.randn(mb_size, Z_dim).to(device)\n",
        "        labels = torch.full((mb_size,), label, dtype=torch.long, device=device)\n",
        "        labels_onehot = one_hot(labels, num_classes=10).to(device)\n",
        "        samples = G(z, labels_onehot).detach().cpu().numpy()[:16]  # take 16 samples\n",
        "\n",
        "    # Create output directory if it doesn't exist\n",
        "    if not os.path.exists(out_dir):\n",
        "        os.makedirs(out_dir)\n",
        "\n",
        "    # Plotting\n",
        "    fig = plt.figure(figsize=(4, 4))\n",
        "    gs = gridspec.GridSpec(4, 4)\n",
        "    gs.update(wspace=0.05, hspace=0.05)\n",
        "\n",
        "    for i, sample in enumerate(samples):\n",
        "        ax = plt.subplot(gs[i])\n",
        "        plt.axis('off')\n",
        "        ax.set_xticklabels([])\n",
        "        ax.set_yticklabels([])\n",
        "        ax.set_aspect('equal')\n",
        "        plt.imshow(sample.reshape(28, 28), cmap='Greys_r')\n",
        "\n",
        "    # Save the image\n",
        "    plt.savefig(f'{out_dir}/{str(epoch).zfill(3)}_label_{label}.png', bbox_inches='tight')\n",
        "    plt.close(fig)\n",
        "\n"
      ]
    },
    {
      "cell_type": "code",
      "execution_count": 17,
      "metadata": {
        "id": "02PDUa4k-XVE"
      },
      "outputs": [],
      "source": [
        "def cGANTraining(G, D, loss_fn, train_loader):\n",
        "    G.train()\n",
        "    D.train()\n",
        "\n",
        "    D_loss_real_total = 0\n",
        "    D_loss_fake_total = 0\n",
        "    G_loss_total = 0\n",
        "    t = tqdm.tqdm(train_loader)\n",
        "\n",
        "    ones_label = torch.ones(mb_size, 1).to(device)\n",
        "    zeros_label = torch.zeros(mb_size, 1).to(device)\n",
        "\n",
        "    for it, (X_real, labels) in enumerate(t):\n",
        "        X_real = X_real.float().to(device)\n",
        "        labels = labels.to(device)\n",
        "        labels_onehot = one_hot(labels, num_classes=10).to(device)\n",
        "\n",
        "        # Sample noise and random fake labels\n",
        "        z = torch.randn(X_real.size(0), Z_dim).to(device)\n",
        "        rand_labels = torch.randint(0, 10, (X_real.size(0),), device=device)\n",
        "        # Use num_classes=10 for consistency\n",
        "        rand_labels_onehot = one_hot(rand_labels, num_classes=10).to(device)\n",
        "\n",
        "        # ================ Train Discriminator ================\n",
        "        G_sample = G(z, rand_labels_onehot)\n",
        "        D_real = D(X_real, labels_onehot)\n",
        "        D_fake = D(G_sample.detach(), rand_labels_onehot)\n",
        "\n",
        "        D_loss_real = loss_fn(D_real, ones_label[:X_real.size(0)])\n",
        "        D_loss_fake = loss_fn(D_fake, zeros_label[:X_real.size(0)])\n",
        "        D_loss = D_loss_real + D_loss_fake\n",
        "        D_loss_real_total += D_loss_real.item()\n",
        "        D_loss_fake_total += D_loss_fake.item()\n",
        "\n",
        "        D_solver.zero_grad()\n",
        "        D_loss.backward()\n",
        "        D_solver.step()\n",
        "\n",
        "        # ================ Train Generator ===================\n",
        "        z = torch.randn(X_real.size(0), Z_dim).to(device)\n",
        "        rand_labels = torch.randint(0, 10, (X_real.size(0),), device=device)\n",
        "        # Use num_classes=10 for consistency\n",
        "        rand_labels_onehot = one_hot(rand_labels, num_classes=10).to(device)\n",
        "\n",
        "        G_sample = G(z, rand_labels_onehot)\n",
        "        D_fake = D(G_sample, rand_labels_onehot)\n",
        "\n",
        "        G_loss = loss_fn(D_fake, ones_label[:X_real.size(0)])\n",
        "        G_loss_total += G_loss.item()\n",
        "\n",
        "        G_solver.zero_grad()\n",
        "        G_loss.backward()\n",
        "        G_solver.step()\n",
        "\n",
        "    # ================= Logging =================\n",
        "    D_loss_real_avg = D_loss_real_total / len(train_loader)\n",
        "    D_loss_fake_avg = D_loss_fake_total / len(train_loader)\n",
        "    D_loss_avg = D_loss_real_avg + D_loss_fake_avg\n",
        "    G_loss_avg = G_loss_total / len(train_loader)\n",
        "\n",
        "    wandb.log({\n",
        "        \"D_loss_real\": D_loss_real_avg,\n",
        "        \"D_loss_fake\": D_loss_fake_avg,\n",
        "        \"D_loss\": D_loss_avg,\n",
        "        \"G_loss\": G_loss_avg\n",
        "    })\n",
        "\n",
        "    return G, D, G_loss_avg, D_loss_avg"
      ]
    },
    {
      "cell_type": "code",
      "execution_count": 18,
      "metadata": {
        "id": "L-Vurr7M966W",
        "colab": {
          "base_uri": "https://localhost:8080/",
          "height": 1000
        },
        "outputId": "c438dd39-af8e-4e13-9a18-c56d184ac4a6"
      },
      "outputs": [
        {
          "output_type": "stream",
          "name": "stdout",
          "text": [
            "cuda:0\n"
          ]
        },
        {
          "output_type": "display_data",
          "data": {
            "text/plain": [
              "<IPython.core.display.HTML object>"
            ],
            "text/html": []
          },
          "metadata": {}
        },
        {
          "output_type": "display_data",
          "data": {
            "text/plain": [
              "<IPython.core.display.HTML object>"
            ],
            "text/html": [
              "<br>    <style><br>        .wandb-row {<br>            display: flex;<br>            flex-direction: row;<br>            flex-wrap: wrap;<br>            justify-content: flex-start;<br>            width: 100%;<br>        }<br>        .wandb-col {<br>            display: flex;<br>            flex-direction: column;<br>            flex-basis: 100%;<br>            flex: 1;<br>            padding: 10px;<br>        }<br>    </style><br><div class=\"wandb-row\"><div class=\"wandb-col\"><h3>Run history:</h3><br/><table class=\"wandb\"><tr><td>D_loss</td><td>▁▁▂▃▅▇████████▇▇▇▇▇▇▇▇▇▆▆▆▆▆▆▆▆▆▆▅▅▅▅▅▅▅</td></tr><tr><td>D_loss_fake</td><td>▁▁▃▇▇█████▇▇▇▇▇▇▇▇▇▇▆▆▆▆▆▆▅▅▅▅▅▅▅▅▅▅▅▅▅▅</td></tr><tr><td>D_loss_real</td><td>▁▃▆▇▇█████████▇▇▇▇▇▇▇▇▆▆▆▆▆▆▆▆▆▆▆▆▆▅▅▅▅▅</td></tr><tr><td>G_loss</td><td>█▇▄▂▁▁▁▁▁▁▁▁▁▂▂▂▂▂▂▂▂▂▂▂▂▂▂▂▂▂▂▂▂▂▃▃▃▃▃▃</td></tr></table><br/></div><div class=\"wandb-col\"><h3>Run summary:</h3><br/><table class=\"wandb\"><tr><td>D_loss</td><td>0.39523</td></tr><tr><td>D_loss_fake</td><td>0.16817</td></tr><tr><td>D_loss_real</td><td>0.22706</td></tr><tr><td>G_loss</td><td>3.12556</td></tr></table><br/></div></div>"
            ]
          },
          "metadata": {}
        },
        {
          "output_type": "display_data",
          "data": {
            "text/plain": [
              "<IPython.core.display.HTML object>"
            ],
            "text/html": [
              " View run <strong style=\"color:#cdcd00\">noble-hill-37</strong> at: <a href='https://wandb.ai/ertveh-4-lule-university-of-technology/lab2/runs/uzjx29lr' target=\"_blank\">https://wandb.ai/ertveh-4-lule-university-of-technology/lab2/runs/uzjx29lr</a><br> View project at: <a href='https://wandb.ai/ertveh-4-lule-university-of-technology/lab2' target=\"_blank\">https://wandb.ai/ertveh-4-lule-university-of-technology/lab2</a><br>Synced 5 W&B file(s), 0 media file(s), 0 artifact file(s) and 0 other file(s)"
            ]
          },
          "metadata": {}
        },
        {
          "output_type": "display_data",
          "data": {
            "text/plain": [
              "<IPython.core.display.HTML object>"
            ],
            "text/html": [
              "Find logs at: <code>./wandb/run-20250428_104559-uzjx29lr/logs</code>"
            ]
          },
          "metadata": {}
        },
        {
          "output_type": "display_data",
          "data": {
            "text/plain": [
              "<IPython.core.display.HTML object>"
            ],
            "text/html": [
              "Tracking run with wandb version 0.19.9"
            ]
          },
          "metadata": {}
        },
        {
          "output_type": "display_data",
          "data": {
            "text/plain": [
              "<IPython.core.display.HTML object>"
            ],
            "text/html": [
              "Run data is saved locally in <code>/content/wandb/run-20250428_110513-62iodnwv</code>"
            ]
          },
          "metadata": {}
        },
        {
          "output_type": "display_data",
          "data": {
            "text/plain": [
              "<IPython.core.display.HTML object>"
            ],
            "text/html": [
              "Syncing run <strong><a href='https://wandb.ai/ertveh-4-lule-university-of-technology/lab2/runs/62iodnwv' target=\"_blank\">jolly-salad-38</a></strong> to <a href='https://wandb.ai/ertveh-4-lule-university-of-technology/lab2' target=\"_blank\">Weights & Biases</a> (<a href='https://wandb.me/developer-guide' target=\"_blank\">docs</a>)<br>"
            ]
          },
          "metadata": {}
        },
        {
          "output_type": "display_data",
          "data": {
            "text/plain": [
              "<IPython.core.display.HTML object>"
            ],
            "text/html": [
              " View project at <a href='https://wandb.ai/ertveh-4-lule-university-of-technology/lab2' target=\"_blank\">https://wandb.ai/ertveh-4-lule-university-of-technology/lab2</a>"
            ]
          },
          "metadata": {}
        },
        {
          "output_type": "display_data",
          "data": {
            "text/plain": [
              "<IPython.core.display.HTML object>"
            ],
            "text/html": [
              " View run at <a href='https://wandb.ai/ertveh-4-lule-university-of-technology/lab2/runs/62iodnwv' target=\"_blank\">https://wandb.ai/ertveh-4-lule-university-of-technology/lab2/runs/62iodnwv</a>"
            ]
          },
          "metadata": {}
        },
        {
          "output_type": "stream",
          "name": "stderr",
          "text": [
            "100%|██████████| 938/938 [00:11<00:00, 84.75it/s]\n"
          ]
        },
        {
          "output_type": "stream",
          "name": "stdout",
          "text": [
            "epoch0; D_loss: 0.0676; G_loss: 6.5543\n",
            "Saved Best Models at epoch 0 | G_loss: 6.5543\n"
          ]
        },
        {
          "output_type": "stream",
          "name": "stderr",
          "text": [
            "100%|██████████| 938/938 [00:11<00:00, 84.56it/s]\n"
          ]
        },
        {
          "output_type": "stream",
          "name": "stdout",
          "text": [
            "epoch1; D_loss: 0.0225; G_loss: 8.0753\n"
          ]
        },
        {
          "output_type": "stream",
          "name": "stderr",
          "text": [
            "100%|██████████| 938/938 [00:11<00:00, 85.07it/s]\n"
          ]
        },
        {
          "output_type": "stream",
          "name": "stdout",
          "text": [
            "epoch2; D_loss: 0.0209; G_loss: 6.4509\n",
            "Saved Best Models at epoch 2 | G_loss: 6.4509\n"
          ]
        },
        {
          "output_type": "stream",
          "name": "stderr",
          "text": [
            "100%|██████████| 938/938 [00:11<00:00, 84.52it/s]\n"
          ]
        },
        {
          "output_type": "stream",
          "name": "stdout",
          "text": [
            "epoch3; D_loss: 0.0523; G_loss: 6.5572\n"
          ]
        },
        {
          "output_type": "stream",
          "name": "stderr",
          "text": [
            "100%|██████████| 938/938 [00:11<00:00, 84.95it/s]\n"
          ]
        },
        {
          "output_type": "stream",
          "name": "stdout",
          "text": [
            "epoch4; D_loss: 0.0948; G_loss: 6.2921\n",
            "Saved Best Models at epoch 4 | G_loss: 6.2921\n"
          ]
        },
        {
          "output_type": "stream",
          "name": "stderr",
          "text": [
            "100%|██████████| 938/938 [00:11<00:00, 84.33it/s]\n"
          ]
        },
        {
          "output_type": "stream",
          "name": "stdout",
          "text": [
            "epoch5; D_loss: 0.1777; G_loss: 5.7819\n",
            "Saved Best Models at epoch 5 | G_loss: 5.7819\n"
          ]
        },
        {
          "output_type": "stream",
          "name": "stderr",
          "text": [
            "100%|██████████| 938/938 [00:11<00:00, 84.40it/s]\n"
          ]
        },
        {
          "output_type": "stream",
          "name": "stdout",
          "text": [
            "epoch6; D_loss: 0.3049; G_loss: 5.3320\n",
            "Saved Best Models at epoch 6 | G_loss: 5.3320\n"
          ]
        },
        {
          "output_type": "stream",
          "name": "stderr",
          "text": [
            "100%|██████████| 938/938 [00:11<00:00, 85.08it/s]\n"
          ]
        },
        {
          "output_type": "stream",
          "name": "stdout",
          "text": [
            "epoch7; D_loss: 0.3873; G_loss: 4.4505\n",
            "Saved Best Models at epoch 7 | G_loss: 4.4505\n"
          ]
        },
        {
          "output_type": "stream",
          "name": "stderr",
          "text": [
            "100%|██████████| 938/938 [00:11<00:00, 84.63it/s]\n"
          ]
        },
        {
          "output_type": "stream",
          "name": "stdout",
          "text": [
            "epoch8; D_loss: 0.4915; G_loss: 3.9595\n",
            "Saved Best Models at epoch 8 | G_loss: 3.9595\n"
          ]
        },
        {
          "output_type": "stream",
          "name": "stderr",
          "text": [
            "100%|██████████| 938/938 [00:10<00:00, 85.58it/s]\n"
          ]
        },
        {
          "output_type": "stream",
          "name": "stdout",
          "text": [
            "epoch9; D_loss: 0.5857; G_loss: 3.7922\n",
            "Saved Best Models at epoch 9 | G_loss: 3.7922\n"
          ]
        },
        {
          "output_type": "stream",
          "name": "stderr",
          "text": [
            "100%|██████████| 938/938 [00:11<00:00, 84.15it/s]\n"
          ]
        },
        {
          "output_type": "stream",
          "name": "stdout",
          "text": [
            "epoch10; D_loss: 0.6659; G_loss: 3.2565\n",
            "Saved Best Models at epoch 10 | G_loss: 3.2565\n"
          ]
        },
        {
          "output_type": "stream",
          "name": "stderr",
          "text": [
            "100%|██████████| 938/938 [00:11<00:00, 85.19it/s]\n"
          ]
        },
        {
          "output_type": "stream",
          "name": "stdout",
          "text": [
            "epoch11; D_loss: 0.6779; G_loss: 3.0921\n",
            "Saved Best Models at epoch 11 | G_loss: 3.0921\n"
          ]
        },
        {
          "output_type": "stream",
          "name": "stderr",
          "text": [
            "100%|██████████| 938/938 [00:11<00:00, 85.17it/s]\n"
          ]
        },
        {
          "output_type": "stream",
          "name": "stdout",
          "text": [
            "epoch12; D_loss: 0.6972; G_loss: 2.8506\n",
            "Saved Best Models at epoch 12 | G_loss: 2.8506\n"
          ]
        },
        {
          "output_type": "stream",
          "name": "stderr",
          "text": [
            "100%|██████████| 938/938 [00:11<00:00, 84.51it/s]\n"
          ]
        },
        {
          "output_type": "stream",
          "name": "stdout",
          "text": [
            "epoch13; D_loss: 0.7029; G_loss: 2.7292\n",
            "Saved Best Models at epoch 13 | G_loss: 2.7292\n"
          ]
        },
        {
          "output_type": "stream",
          "name": "stderr",
          "text": [
            "100%|██████████| 938/938 [00:11<00:00, 84.80it/s]\n"
          ]
        },
        {
          "output_type": "stream",
          "name": "stdout",
          "text": [
            "epoch14; D_loss: 0.7364; G_loss: 2.5139\n",
            "Saved Best Models at epoch 14 | G_loss: 2.5139\n"
          ]
        },
        {
          "output_type": "stream",
          "name": "stderr",
          "text": [
            "100%|██████████| 938/938 [00:11<00:00, 84.73it/s]\n"
          ]
        },
        {
          "output_type": "stream",
          "name": "stdout",
          "text": [
            "epoch15; D_loss: 0.7450; G_loss: 2.4031\n",
            "Saved Best Models at epoch 15 | G_loss: 2.4031\n"
          ]
        },
        {
          "output_type": "stream",
          "name": "stderr",
          "text": [
            "100%|██████████| 938/938 [00:11<00:00, 84.81it/s]\n"
          ]
        },
        {
          "output_type": "stream",
          "name": "stdout",
          "text": [
            "epoch16; D_loss: 0.7773; G_loss: 2.2652\n",
            "Saved Best Models at epoch 16 | G_loss: 2.2652\n"
          ]
        },
        {
          "output_type": "stream",
          "name": "stderr",
          "text": [
            "100%|██████████| 938/938 [00:10<00:00, 85.58it/s]\n"
          ]
        },
        {
          "output_type": "stream",
          "name": "stdout",
          "text": [
            "epoch17; D_loss: 0.7733; G_loss: 2.1637\n",
            "Saved Best Models at epoch 17 | G_loss: 2.1637\n"
          ]
        },
        {
          "output_type": "stream",
          "name": "stderr",
          "text": [
            "100%|██████████| 938/938 [00:10<00:00, 85.47it/s]\n"
          ]
        },
        {
          "output_type": "stream",
          "name": "stdout",
          "text": [
            "epoch18; D_loss: 0.7810; G_loss: 2.1067\n",
            "Saved Best Models at epoch 18 | G_loss: 2.1067\n"
          ]
        },
        {
          "output_type": "stream",
          "name": "stderr",
          "text": [
            "100%|██████████| 938/938 [00:11<00:00, 84.87it/s]\n"
          ]
        },
        {
          "output_type": "stream",
          "name": "stdout",
          "text": [
            "epoch19; D_loss: 0.7704; G_loss: 2.0719\n",
            "Saved Best Models at epoch 19 | G_loss: 2.0719\n"
          ]
        },
        {
          "output_type": "stream",
          "name": "stderr",
          "text": [
            "100%|██████████| 938/938 [00:11<00:00, 85.25it/s]\n"
          ]
        },
        {
          "output_type": "stream",
          "name": "stdout",
          "text": [
            "epoch20; D_loss: 0.7677; G_loss: 2.0861\n"
          ]
        },
        {
          "output_type": "stream",
          "name": "stderr",
          "text": [
            "100%|██████████| 938/938 [00:11<00:00, 84.84it/s]\n"
          ]
        },
        {
          "output_type": "stream",
          "name": "stdout",
          "text": [
            "epoch21; D_loss: 0.7709; G_loss: 2.0672\n",
            "Saved Best Models at epoch 21 | G_loss: 2.0672\n"
          ]
        },
        {
          "output_type": "stream",
          "name": "stderr",
          "text": [
            "100%|██████████| 938/938 [00:11<00:00, 84.42it/s]\n"
          ]
        },
        {
          "output_type": "stream",
          "name": "stdout",
          "text": [
            "epoch22; D_loss: 0.7756; G_loss: 2.0393\n",
            "Saved Best Models at epoch 22 | G_loss: 2.0393\n"
          ]
        },
        {
          "output_type": "stream",
          "name": "stderr",
          "text": [
            "100%|██████████| 938/938 [00:11<00:00, 84.76it/s]\n"
          ]
        },
        {
          "output_type": "stream",
          "name": "stdout",
          "text": [
            "epoch23; D_loss: 0.7713; G_loss: 2.0600\n"
          ]
        },
        {
          "output_type": "stream",
          "name": "stderr",
          "text": [
            "100%|██████████| 938/938 [00:10<00:00, 85.53it/s]\n"
          ]
        },
        {
          "output_type": "stream",
          "name": "stdout",
          "text": [
            "epoch24; D_loss: 0.7627; G_loss: 2.0655\n"
          ]
        },
        {
          "output_type": "stream",
          "name": "stderr",
          "text": [
            "100%|██████████| 938/938 [00:11<00:00, 84.98it/s]\n"
          ]
        },
        {
          "output_type": "stream",
          "name": "stdout",
          "text": [
            "epoch25; D_loss: 0.7622; G_loss: 2.0761\n"
          ]
        },
        {
          "output_type": "stream",
          "name": "stderr",
          "text": [
            "100%|██████████| 938/938 [00:11<00:00, 84.72it/s]\n"
          ]
        },
        {
          "output_type": "stream",
          "name": "stdout",
          "text": [
            "epoch26; D_loss: 0.7630; G_loss: 2.0784\n"
          ]
        },
        {
          "output_type": "stream",
          "name": "stderr",
          "text": [
            "100%|██████████| 938/938 [00:11<00:00, 84.77it/s]\n"
          ]
        },
        {
          "output_type": "stream",
          "name": "stdout",
          "text": [
            "epoch27; D_loss: 0.7663; G_loss: 2.0722\n"
          ]
        },
        {
          "output_type": "stream",
          "name": "stderr",
          "text": [
            "100%|██████████| 938/938 [00:10<00:00, 85.54it/s]\n"
          ]
        },
        {
          "output_type": "stream",
          "name": "stdout",
          "text": [
            "epoch28; D_loss: 0.7683; G_loss: 2.0664\n"
          ]
        },
        {
          "output_type": "stream",
          "name": "stderr",
          "text": [
            "100%|██████████| 938/938 [00:11<00:00, 85.18it/s]\n"
          ]
        },
        {
          "output_type": "stream",
          "name": "stdout",
          "text": [
            "epoch29; D_loss: 0.7632; G_loss: 2.0515\n"
          ]
        },
        {
          "output_type": "stream",
          "name": "stderr",
          "text": [
            "100%|██████████| 938/938 [00:11<00:00, 84.87it/s]\n"
          ]
        },
        {
          "output_type": "stream",
          "name": "stdout",
          "text": [
            "epoch30; D_loss: 0.7586; G_loss: 2.0649\n"
          ]
        },
        {
          "output_type": "stream",
          "name": "stderr",
          "text": [
            "100%|██████████| 938/938 [00:10<00:00, 85.36it/s]\n"
          ]
        },
        {
          "output_type": "stream",
          "name": "stdout",
          "text": [
            "epoch31; D_loss: 0.7580; G_loss: 2.0890\n"
          ]
        },
        {
          "output_type": "stream",
          "name": "stderr",
          "text": [
            "100%|██████████| 938/938 [00:10<00:00, 85.86it/s]\n"
          ]
        },
        {
          "output_type": "stream",
          "name": "stdout",
          "text": [
            "epoch32; D_loss: 0.7523; G_loss: 2.1042\n"
          ]
        },
        {
          "output_type": "stream",
          "name": "stderr",
          "text": [
            "100%|██████████| 938/938 [00:11<00:00, 84.74it/s]\n"
          ]
        },
        {
          "output_type": "stream",
          "name": "stdout",
          "text": [
            "epoch33; D_loss: 0.7474; G_loss: 2.1328\n"
          ]
        },
        {
          "output_type": "stream",
          "name": "stderr",
          "text": [
            "100%|██████████| 938/938 [00:11<00:00, 84.45it/s]\n"
          ]
        },
        {
          "output_type": "stream",
          "name": "stdout",
          "text": [
            "epoch34; D_loss: 0.7451; G_loss: 2.1323\n"
          ]
        },
        {
          "output_type": "stream",
          "name": "stderr",
          "text": [
            "100%|██████████| 938/938 [00:11<00:00, 84.22it/s]\n"
          ]
        },
        {
          "output_type": "stream",
          "name": "stdout",
          "text": [
            "epoch35; D_loss: 0.7415; G_loss: 2.1270\n"
          ]
        },
        {
          "output_type": "stream",
          "name": "stderr",
          "text": [
            "100%|██████████| 938/938 [00:11<00:00, 85.00it/s]\n"
          ]
        },
        {
          "output_type": "stream",
          "name": "stdout",
          "text": [
            "epoch36; D_loss: 0.7431; G_loss: 2.1558\n"
          ]
        },
        {
          "output_type": "stream",
          "name": "stderr",
          "text": [
            "100%|██████████| 938/938 [00:11<00:00, 84.22it/s]\n"
          ]
        },
        {
          "output_type": "stream",
          "name": "stdout",
          "text": [
            "epoch37; D_loss: 0.7405; G_loss: 2.1520\n"
          ]
        },
        {
          "output_type": "stream",
          "name": "stderr",
          "text": [
            "100%|██████████| 938/938 [00:11<00:00, 84.62it/s]\n"
          ]
        },
        {
          "output_type": "stream",
          "name": "stdout",
          "text": [
            "epoch38; D_loss: 0.7363; G_loss: 2.1485\n"
          ]
        },
        {
          "output_type": "stream",
          "name": "stderr",
          "text": [
            "100%|██████████| 938/938 [00:10<00:00, 85.31it/s]\n"
          ]
        },
        {
          "output_type": "stream",
          "name": "stdout",
          "text": [
            "epoch39; D_loss: 0.7372; G_loss: 2.1542\n"
          ]
        },
        {
          "output_type": "stream",
          "name": "stderr",
          "text": [
            "100%|██████████| 938/938 [00:11<00:00, 83.72it/s]\n"
          ]
        },
        {
          "output_type": "stream",
          "name": "stdout",
          "text": [
            "epoch40; D_loss: 0.7264; G_loss: 2.1568\n"
          ]
        },
        {
          "output_type": "stream",
          "name": "stderr",
          "text": [
            "100%|██████████| 938/938 [00:11<00:00, 84.62it/s]\n"
          ]
        },
        {
          "output_type": "stream",
          "name": "stdout",
          "text": [
            "epoch41; D_loss: 0.7313; G_loss: 2.1897\n"
          ]
        },
        {
          "output_type": "stream",
          "name": "stderr",
          "text": [
            "100%|██████████| 938/938 [00:11<00:00, 84.82it/s]\n"
          ]
        },
        {
          "output_type": "stream",
          "name": "stdout",
          "text": [
            "epoch42; D_loss: 0.7238; G_loss: 2.1778\n"
          ]
        },
        {
          "output_type": "stream",
          "name": "stderr",
          "text": [
            "100%|██████████| 938/938 [00:10<00:00, 85.84it/s]\n"
          ]
        },
        {
          "output_type": "stream",
          "name": "stdout",
          "text": [
            "epoch43; D_loss: 0.7246; G_loss: 2.1877\n"
          ]
        },
        {
          "output_type": "stream",
          "name": "stderr",
          "text": [
            "100%|██████████| 938/938 [00:10<00:00, 85.96it/s]\n"
          ]
        },
        {
          "output_type": "stream",
          "name": "stdout",
          "text": [
            "epoch44; D_loss: 0.7241; G_loss: 2.1877\n"
          ]
        },
        {
          "output_type": "stream",
          "name": "stderr",
          "text": [
            "100%|██████████| 938/938 [00:10<00:00, 85.67it/s]\n"
          ]
        },
        {
          "output_type": "stream",
          "name": "stdout",
          "text": [
            "epoch45; D_loss: 0.7227; G_loss: 2.1840\n"
          ]
        },
        {
          "output_type": "stream",
          "name": "stderr",
          "text": [
            "100%|██████████| 938/938 [00:11<00:00, 85.17it/s]\n"
          ]
        },
        {
          "output_type": "stream",
          "name": "stdout",
          "text": [
            "epoch46; D_loss: 0.7198; G_loss: 2.1925\n"
          ]
        },
        {
          "output_type": "stream",
          "name": "stderr",
          "text": [
            "100%|██████████| 938/938 [00:10<00:00, 85.32it/s]\n"
          ]
        },
        {
          "output_type": "stream",
          "name": "stdout",
          "text": [
            "epoch47; D_loss: 0.7172; G_loss: 2.2248\n"
          ]
        },
        {
          "output_type": "stream",
          "name": "stderr",
          "text": [
            "100%|██████████| 938/938 [00:11<00:00, 85.17it/s]\n"
          ]
        },
        {
          "output_type": "stream",
          "name": "stdout",
          "text": [
            "epoch48; D_loss: 0.7213; G_loss: 2.2066\n"
          ]
        },
        {
          "output_type": "stream",
          "name": "stderr",
          "text": [
            "100%|██████████| 938/938 [00:10<00:00, 85.56it/s]\n"
          ]
        },
        {
          "output_type": "stream",
          "name": "stdout",
          "text": [
            "epoch49; D_loss: 0.7137; G_loss: 2.2277\n"
          ]
        },
        {
          "output_type": "stream",
          "name": "stderr",
          "text": [
            "100%|██████████| 938/938 [00:11<00:00, 84.64it/s]\n"
          ]
        },
        {
          "output_type": "stream",
          "name": "stdout",
          "text": [
            "epoch50; D_loss: 0.7177; G_loss: 2.2255\n"
          ]
        },
        {
          "output_type": "stream",
          "name": "stderr",
          "text": [
            "100%|██████████| 938/938 [00:11<00:00, 84.51it/s]\n"
          ]
        },
        {
          "output_type": "stream",
          "name": "stdout",
          "text": [
            "epoch51; D_loss: 0.7107; G_loss: 2.2227\n"
          ]
        },
        {
          "output_type": "stream",
          "name": "stderr",
          "text": [
            "100%|██████████| 938/938 [00:10<00:00, 85.42it/s]\n"
          ]
        },
        {
          "output_type": "stream",
          "name": "stdout",
          "text": [
            "epoch52; D_loss: 0.7111; G_loss: 2.2423\n"
          ]
        },
        {
          "output_type": "stream",
          "name": "stderr",
          "text": [
            "100%|██████████| 938/938 [00:10<00:00, 85.30it/s]\n"
          ]
        },
        {
          "output_type": "stream",
          "name": "stdout",
          "text": [
            "epoch53; D_loss: 0.7123; G_loss: 2.2346\n"
          ]
        },
        {
          "output_type": "stream",
          "name": "stderr",
          "text": [
            "100%|██████████| 938/938 [00:10<00:00, 85.54it/s]\n"
          ]
        },
        {
          "output_type": "stream",
          "name": "stdout",
          "text": [
            "epoch54; D_loss: 0.7128; G_loss: 2.2265\n"
          ]
        },
        {
          "output_type": "stream",
          "name": "stderr",
          "text": [
            "100%|██████████| 938/938 [00:11<00:00, 84.88it/s]\n"
          ]
        },
        {
          "output_type": "stream",
          "name": "stdout",
          "text": [
            "epoch55; D_loss: 0.7142; G_loss: 2.2351\n"
          ]
        },
        {
          "output_type": "stream",
          "name": "stderr",
          "text": [
            "100%|██████████| 938/938 [00:11<00:00, 84.49it/s]\n"
          ]
        },
        {
          "output_type": "stream",
          "name": "stdout",
          "text": [
            "epoch56; D_loss: 0.7125; G_loss: 2.2224\n"
          ]
        },
        {
          "output_type": "stream",
          "name": "stderr",
          "text": [
            "100%|██████████| 938/938 [00:10<00:00, 85.59it/s]\n"
          ]
        },
        {
          "output_type": "stream",
          "name": "stdout",
          "text": [
            "epoch57; D_loss: 0.7104; G_loss: 2.2205\n"
          ]
        },
        {
          "output_type": "stream",
          "name": "stderr",
          "text": [
            "100%|██████████| 938/938 [00:10<00:00, 85.72it/s]\n"
          ]
        },
        {
          "output_type": "stream",
          "name": "stdout",
          "text": [
            "epoch58; D_loss: 0.7080; G_loss: 2.2278\n"
          ]
        },
        {
          "output_type": "stream",
          "name": "stderr",
          "text": [
            "100%|██████████| 938/938 [00:11<00:00, 85.16it/s]\n"
          ]
        },
        {
          "output_type": "stream",
          "name": "stdout",
          "text": [
            "epoch59; D_loss: 0.7095; G_loss: 2.2195\n"
          ]
        },
        {
          "output_type": "stream",
          "name": "stderr",
          "text": [
            "100%|██████████| 938/938 [00:11<00:00, 84.80it/s]\n"
          ]
        },
        {
          "output_type": "stream",
          "name": "stdout",
          "text": [
            "epoch60; D_loss: 0.7065; G_loss: 2.2324\n"
          ]
        },
        {
          "output_type": "stream",
          "name": "stderr",
          "text": [
            "100%|██████████| 938/938 [00:11<00:00, 84.75it/s]\n"
          ]
        },
        {
          "output_type": "stream",
          "name": "stdout",
          "text": [
            "epoch61; D_loss: 0.7055; G_loss: 2.2432\n"
          ]
        },
        {
          "output_type": "stream",
          "name": "stderr",
          "text": [
            "100%|██████████| 938/938 [00:10<00:00, 85.59it/s]\n"
          ]
        },
        {
          "output_type": "stream",
          "name": "stdout",
          "text": [
            "epoch62; D_loss: 0.6991; G_loss: 2.2204\n"
          ]
        },
        {
          "output_type": "stream",
          "name": "stderr",
          "text": [
            "100%|██████████| 938/938 [00:10<00:00, 85.28it/s]\n"
          ]
        },
        {
          "output_type": "stream",
          "name": "stdout",
          "text": [
            "epoch63; D_loss: 0.7008; G_loss: 2.2353\n"
          ]
        },
        {
          "output_type": "stream",
          "name": "stderr",
          "text": [
            "100%|██████████| 938/938 [00:11<00:00, 84.75it/s]\n"
          ]
        },
        {
          "output_type": "stream",
          "name": "stdout",
          "text": [
            "epoch64; D_loss: 0.6959; G_loss: 2.2429\n"
          ]
        },
        {
          "output_type": "stream",
          "name": "stderr",
          "text": [
            "100%|██████████| 938/938 [00:11<00:00, 84.63it/s]\n"
          ]
        },
        {
          "output_type": "stream",
          "name": "stdout",
          "text": [
            "epoch65; D_loss: 0.7019; G_loss: 2.2348\n"
          ]
        },
        {
          "output_type": "stream",
          "name": "stderr",
          "text": [
            "100%|██████████| 938/938 [00:10<00:00, 85.42it/s]\n"
          ]
        },
        {
          "output_type": "stream",
          "name": "stdout",
          "text": [
            "epoch66; D_loss: 0.7020; G_loss: 2.2259\n"
          ]
        },
        {
          "output_type": "stream",
          "name": "stderr",
          "text": [
            "100%|██████████| 938/938 [00:11<00:00, 84.35it/s]\n"
          ]
        },
        {
          "output_type": "stream",
          "name": "stdout",
          "text": [
            "epoch67; D_loss: 0.6984; G_loss: 2.2631\n"
          ]
        },
        {
          "output_type": "stream",
          "name": "stderr",
          "text": [
            "100%|██████████| 938/938 [00:11<00:00, 84.63it/s]\n"
          ]
        },
        {
          "output_type": "stream",
          "name": "stdout",
          "text": [
            "epoch68; D_loss: 0.6987; G_loss: 2.2460\n"
          ]
        },
        {
          "output_type": "stream",
          "name": "stderr",
          "text": [
            "100%|██████████| 938/938 [00:11<00:00, 84.73it/s]\n"
          ]
        },
        {
          "output_type": "stream",
          "name": "stdout",
          "text": [
            "epoch69; D_loss: 0.7031; G_loss: 2.2388\n"
          ]
        },
        {
          "output_type": "stream",
          "name": "stderr",
          "text": [
            "100%|██████████| 938/938 [00:11<00:00, 85.26it/s]\n"
          ]
        },
        {
          "output_type": "stream",
          "name": "stdout",
          "text": [
            "epoch70; D_loss: 0.6969; G_loss: 2.2329\n"
          ]
        },
        {
          "output_type": "stream",
          "name": "stderr",
          "text": [
            "100%|██████████| 938/938 [00:11<00:00, 85.22it/s]\n"
          ]
        },
        {
          "output_type": "stream",
          "name": "stdout",
          "text": [
            "epoch71; D_loss: 0.7007; G_loss: 2.2403\n"
          ]
        },
        {
          "output_type": "stream",
          "name": "stderr",
          "text": [
            "100%|██████████| 938/938 [00:10<00:00, 85.62it/s]\n"
          ]
        },
        {
          "output_type": "stream",
          "name": "stdout",
          "text": [
            "epoch72; D_loss: 0.6980; G_loss: 2.2182\n"
          ]
        },
        {
          "output_type": "stream",
          "name": "stderr",
          "text": [
            "100%|██████████| 938/938 [00:10<00:00, 85.75it/s]\n"
          ]
        },
        {
          "output_type": "stream",
          "name": "stdout",
          "text": [
            "epoch73; D_loss: 0.6954; G_loss: 2.2297\n"
          ]
        },
        {
          "output_type": "stream",
          "name": "stderr",
          "text": [
            "100%|██████████| 938/938 [00:10<00:00, 85.76it/s]\n"
          ]
        },
        {
          "output_type": "stream",
          "name": "stdout",
          "text": [
            "epoch74; D_loss: 0.6946; G_loss: 2.2433\n"
          ]
        },
        {
          "output_type": "stream",
          "name": "stderr",
          "text": [
            "100%|██████████| 938/938 [00:10<00:00, 85.56it/s]\n"
          ]
        },
        {
          "output_type": "stream",
          "name": "stdout",
          "text": [
            "epoch75; D_loss: 0.6928; G_loss: 2.2088\n"
          ]
        },
        {
          "output_type": "stream",
          "name": "stderr",
          "text": [
            "100%|██████████| 938/938 [00:11<00:00, 85.11it/s]\n"
          ]
        },
        {
          "output_type": "stream",
          "name": "stdout",
          "text": [
            "epoch76; D_loss: 0.6915; G_loss: 2.2114\n"
          ]
        },
        {
          "output_type": "stream",
          "name": "stderr",
          "text": [
            "100%|██████████| 938/938 [00:11<00:00, 84.81it/s]\n"
          ]
        },
        {
          "output_type": "stream",
          "name": "stdout",
          "text": [
            "epoch77; D_loss: 0.6944; G_loss: 2.2175\n"
          ]
        },
        {
          "output_type": "stream",
          "name": "stderr",
          "text": [
            "100%|██████████| 938/938 [00:11<00:00, 84.94it/s]\n"
          ]
        },
        {
          "output_type": "stream",
          "name": "stdout",
          "text": [
            "epoch78; D_loss: 0.6894; G_loss: 2.2065\n"
          ]
        },
        {
          "output_type": "stream",
          "name": "stderr",
          "text": [
            "100%|██████████| 938/938 [00:10<00:00, 85.60it/s]\n"
          ]
        },
        {
          "output_type": "stream",
          "name": "stdout",
          "text": [
            "epoch79; D_loss: 0.6891; G_loss: 2.2038\n"
          ]
        },
        {
          "output_type": "stream",
          "name": "stderr",
          "text": [
            "100%|██████████| 938/938 [00:11<00:00, 84.02it/s]\n"
          ]
        },
        {
          "output_type": "stream",
          "name": "stdout",
          "text": [
            "epoch80; D_loss: 0.6868; G_loss: 2.2207\n"
          ]
        },
        {
          "output_type": "stream",
          "name": "stderr",
          "text": [
            "100%|██████████| 938/938 [00:11<00:00, 85.00it/s]\n"
          ]
        },
        {
          "output_type": "stream",
          "name": "stdout",
          "text": [
            "epoch81; D_loss: 0.6889; G_loss: 2.2030\n"
          ]
        },
        {
          "output_type": "stream",
          "name": "stderr",
          "text": [
            "100%|██████████| 938/938 [00:10<00:00, 85.36it/s]\n"
          ]
        },
        {
          "output_type": "stream",
          "name": "stdout",
          "text": [
            "epoch82; D_loss: 0.6867; G_loss: 2.2109\n"
          ]
        },
        {
          "output_type": "stream",
          "name": "stderr",
          "text": [
            "100%|██████████| 938/938 [00:10<00:00, 85.80it/s]\n"
          ]
        },
        {
          "output_type": "stream",
          "name": "stdout",
          "text": [
            "epoch83; D_loss: 0.6914; G_loss: 2.2267\n"
          ]
        },
        {
          "output_type": "stream",
          "name": "stderr",
          "text": [
            "100%|██████████| 938/938 [00:10<00:00, 85.33it/s]\n"
          ]
        },
        {
          "output_type": "stream",
          "name": "stdout",
          "text": [
            "epoch84; D_loss: 0.6909; G_loss: 2.1831\n"
          ]
        },
        {
          "output_type": "stream",
          "name": "stderr",
          "text": [
            "100%|██████████| 938/938 [00:10<00:00, 85.56it/s]\n"
          ]
        },
        {
          "output_type": "stream",
          "name": "stdout",
          "text": [
            "epoch85; D_loss: 0.6839; G_loss: 2.1981\n"
          ]
        },
        {
          "output_type": "stream",
          "name": "stderr",
          "text": [
            "100%|██████████| 938/938 [00:10<00:00, 85.81it/s]\n"
          ]
        },
        {
          "output_type": "stream",
          "name": "stdout",
          "text": [
            "epoch86; D_loss: 0.6887; G_loss: 2.1918\n"
          ]
        },
        {
          "output_type": "stream",
          "name": "stderr",
          "text": [
            "100%|██████████| 938/938 [00:10<00:00, 85.69it/s]\n"
          ]
        },
        {
          "output_type": "stream",
          "name": "stdout",
          "text": [
            "epoch87; D_loss: 0.6836; G_loss: 2.1969\n"
          ]
        },
        {
          "output_type": "stream",
          "name": "stderr",
          "text": [
            "100%|██████████| 938/938 [00:11<00:00, 85.19it/s]\n"
          ]
        },
        {
          "output_type": "stream",
          "name": "stdout",
          "text": [
            "epoch88; D_loss: 0.6838; G_loss: 2.2054\n"
          ]
        },
        {
          "output_type": "stream",
          "name": "stderr",
          "text": [
            "100%|██████████| 938/938 [00:11<00:00, 84.94it/s]\n"
          ]
        },
        {
          "output_type": "stream",
          "name": "stdout",
          "text": [
            "epoch89; D_loss: 0.6861; G_loss: 2.1931\n"
          ]
        },
        {
          "output_type": "stream",
          "name": "stderr",
          "text": [
            "100%|██████████| 938/938 [00:11<00:00, 85.17it/s]\n"
          ]
        },
        {
          "output_type": "stream",
          "name": "stdout",
          "text": [
            "epoch90; D_loss: 0.6822; G_loss: 2.2001\n"
          ]
        },
        {
          "output_type": "stream",
          "name": "stderr",
          "text": [
            "100%|██████████| 938/938 [00:10<00:00, 85.96it/s]\n"
          ]
        },
        {
          "output_type": "stream",
          "name": "stdout",
          "text": [
            "epoch91; D_loss: 0.6782; G_loss: 2.1713\n"
          ]
        },
        {
          "output_type": "stream",
          "name": "stderr",
          "text": [
            "100%|██████████| 938/938 [00:11<00:00, 84.97it/s]\n"
          ]
        },
        {
          "output_type": "stream",
          "name": "stdout",
          "text": [
            "epoch92; D_loss: 0.6817; G_loss: 2.1978\n"
          ]
        },
        {
          "output_type": "stream",
          "name": "stderr",
          "text": [
            "100%|██████████| 938/938 [00:11<00:00, 84.98it/s]\n"
          ]
        },
        {
          "output_type": "stream",
          "name": "stdout",
          "text": [
            "epoch93; D_loss: 0.6828; G_loss: 2.1930\n"
          ]
        },
        {
          "output_type": "stream",
          "name": "stderr",
          "text": [
            "100%|██████████| 938/938 [00:11<00:00, 84.10it/s]\n"
          ]
        },
        {
          "output_type": "stream",
          "name": "stdout",
          "text": [
            "epoch94; D_loss: 0.6811; G_loss: 2.1781\n"
          ]
        },
        {
          "output_type": "stream",
          "name": "stderr",
          "text": [
            "100%|██████████| 938/938 [00:11<00:00, 84.39it/s]\n"
          ]
        },
        {
          "output_type": "stream",
          "name": "stdout",
          "text": [
            "epoch95; D_loss: 0.6758; G_loss: 2.1845\n"
          ]
        },
        {
          "output_type": "stream",
          "name": "stderr",
          "text": [
            "100%|██████████| 938/938 [00:11<00:00, 85.19it/s]\n"
          ]
        },
        {
          "output_type": "stream",
          "name": "stdout",
          "text": [
            "epoch96; D_loss: 0.6761; G_loss: 2.1909\n"
          ]
        },
        {
          "output_type": "stream",
          "name": "stderr",
          "text": [
            "100%|██████████| 938/938 [00:10<00:00, 85.76it/s]\n"
          ]
        },
        {
          "output_type": "stream",
          "name": "stdout",
          "text": [
            "epoch97; D_loss: 0.6769; G_loss: 2.1783\n"
          ]
        },
        {
          "output_type": "stream",
          "name": "stderr",
          "text": [
            "100%|██████████| 938/938 [00:11<00:00, 85.12it/s]\n"
          ]
        },
        {
          "output_type": "stream",
          "name": "stdout",
          "text": [
            "epoch98; D_loss: 0.6759; G_loss: 2.1829\n"
          ]
        },
        {
          "output_type": "stream",
          "name": "stderr",
          "text": [
            "100%|██████████| 938/938 [00:11<00:00, 84.54it/s]\n"
          ]
        },
        {
          "output_type": "stream",
          "name": "stdout",
          "text": [
            "epoch99; D_loss: 0.6794; G_loss: 2.1778\n"
          ]
        }
      ],
      "source": [
        "########################### Main #######################################\n",
        "wandb_log = True\n",
        "device = torch.device(\"cuda:0\" if torch.cuda.is_available() else \"cpu\")\n",
        "print(device)\n",
        "\n",
        "label_dim = 10  # MNIST digits 0-9\n",
        "\n",
        "G = Generator(Z_dim, label_dim, h_dim, X_dim).to(device)\n",
        "D = Discriminator(X_dim, label_dim, h_dim).to(device)\n",
        "\n",
        "\n",
        "# Optimizers\n",
        "G_solver = optim.Adam(G.parameters(), lr=lr)\n",
        "D_solver = optim.Adam(D.parameters(), lr=lr)\n",
        "\n",
        "# Loss function\n",
        "def my_bce_loss(preds, targets):\n",
        "    return F.binary_cross_entropy(preds, targets)\n",
        "\n",
        "#loss_fn = nn.BCEWithLogitsLoss()\n",
        "loss_fn = my_bce_loss\n",
        "\n",
        "if wandb_log:\n",
        "    wandb.init(project=\"lab2\")  # 👈 Add mode=\"disabled\"\n",
        "\n",
        "    # Log hyperparameters\n",
        "    wandb.config.update({\n",
        "        \"batch_size\": mb_size,\n",
        "        \"Z_dim\": Z_dim,\n",
        "        \"X_dim\": X_dim,\n",
        "        \"h_dim\": h_dim,\n",
        "        \"lr\": lr,\n",
        "    })\n",
        "\n",
        "\n",
        "best_g_loss = float('inf')  # Initialize best generator loss\n",
        "save_dir = 'checkpoints_gen_num'\n",
        "os.makedirs(save_dir, exist_ok=True)\n",
        "\n",
        "#Train epochs\n",
        "epochs = 100\n",
        "\n",
        "for epoch in range(epochs):\n",
        "    G, D, G_loss_avg, D_loss_avg= cGANTraining(G, D, loss_fn, train_loader)\n",
        "\n",
        "    print(f'epoch{epoch}; D_loss: {D_loss_avg:.4f}; G_loss: {G_loss_avg:.4f}')\n",
        "\n",
        "    if G_loss_avg < best_g_loss:\n",
        "        best_g_loss = G_loss_avg\n",
        "        torch.save(G.state_dict(), os.path.join(save_dir, 'G_best.pth'))\n",
        "        torch.save(D.state_dict(), os.path.join(save_dir, 'D_best.pth'))\n",
        "        print(f\"Saved Best Models at epoch {epoch} | G_loss: {best_g_loss:.4f}\")\n",
        "\n",
        "    save_sample(G, epoch, mb_size, Z_dim, label=3)\n",
        "\n",
        "\n",
        "\n"
      ]
    },
    {
      "cell_type": "markdown",
      "metadata": {
        "id": "cIUQHYvWg5H0"
      },
      "source": [
        "***TEST***\n"
      ]
    },
    {
      "cell_type": "code",
      "execution_count": 19,
      "metadata": {
        "id": "VjbdlLmVg7Qc"
      },
      "outputs": [],
      "source": [
        "# Inference\n",
        "G.load_state_dict(torch.load('checkpoints_gen_num/G_best.pth'))\n",
        "G.eval()\n",
        "\n",
        "save_sample(G, \"test8\", mb_size, Z_dim, label=8)\n",
        "\n",
        "save_sample(G, \"test5\", mb_size, Z_dim, label=5)"
      ]
    },
    {
      "cell_type": "markdown",
      "metadata": {
        "id": "xqQxeiQ6Tv__"
      },
      "source": [
        "**Task 4**"
      ]
    },
    {
      "cell_type": "code",
      "execution_count": 20,
      "metadata": {
        "id": "01-bUyvpUfHs",
        "colab": {
          "base_uri": "https://localhost:8080/",
          "height": 532
        },
        "outputId": "f7166b23-d5ad-408c-cf64-073c400350a1"
      },
      "outputs": [
        {
          "output_type": "stream",
          "name": "stderr",
          "text": [
            "100%|██████████| 9.91M/9.91M [00:00<00:00, 39.4MB/s]\n",
            "100%|██████████| 28.9k/28.9k [00:00<00:00, 1.21MB/s]\n",
            "100%|██████████| 1.65M/1.65M [00:00<00:00, 10.6MB/s]\n",
            "100%|██████████| 4.54k/4.54k [00:00<00:00, 6.52MB/s]\n"
          ]
        },
        {
          "output_type": "stream",
          "name": "stdout",
          "text": [
            "Epoch 1/5, Loss: 0.2134\n",
            "Epoch 2/5, Loss: 0.0545\n",
            "Epoch 3/5, Loss: 0.0413\n",
            "Epoch 4/5, Loss: 0.0312\n",
            "Epoch 5/5, Loss: 0.0259\n",
            "Test Accuracy: 0.9893\n"
          ]
        },
        {
          "output_type": "display_data",
          "data": {
            "text/plain": [
              "<Figure size 800x400 with 2 Axes>"
            ],
            "image/png": "[encoded data removed]"
          },
          "metadata": {}
        },
        {
          "output_type": "stream",
          "name": "stdout",
          "text": [
            "Predicted label for adversarial image: 9\n"
          ]
        }
      ],
      "source": [
        "import torch\n",
        "import torch.nn as nn\n",
        "import torch.optim as optim\n",
        "import torch.nn.functional as F\n",
        "from torch.utils.data import DataLoader\n",
        "from torchvision import datasets, transforms\n",
        "import numpy as np\n",
        "import matplotlib.pyplot as plt\n",
        "\n",
        "# Device configuration (use GPU if available)\n",
        "device = torch.device('cuda' if torch.cuda.is_available() else 'cpu')\n",
        "if device.type == 'cuda':\n",
        "    torch.backends.cudnn.benchmark = True\n",
        "\n",
        "# Hyperparameters\n",
        "batch_size = 64\n",
        "epochs = 5\n",
        "learning_rate = 0.001\n",
        "\n",
        "# Attack parameters\n",
        "epsilon = 0.3    # Maximum perturbation\n",
        "alpha = 0.01     # Step size\n",
        "num_iterations = 100  # Iterations\n",
        "\n",
        "# MNIST dataset and DataLoader\n",
        "transform = transforms.Compose([transforms.ToTensor()])\n",
        "pin_memory = (device.type == 'cuda')\n",
        "\n",
        "train_dataset = datasets.MNIST(root='./data', train=True, transform=transform, download=True)\n",
        "train_loader = DataLoader(train_dataset, batch_size=batch_size, shuffle=True,\n",
        "                          pin_memory=pin_memory, num_workers=4)\n",
        "test_dataset = datasets.MNIST(root='./data', train=False, transform=transform, download=True)\n",
        "test_loader = DataLoader(test_dataset, batch_size=batch_size, shuffle=False,\n",
        "                         pin_memory=pin_memory, num_workers=4)\n",
        "\n",
        "# Define the CNN model\n",
        "class CNN(nn.Module):\n",
        "    def __init__(self):\n",
        "        super(CNN, self).__init__()\n",
        "        self.conv1 = nn.Conv2d(1, 32, 3)\n",
        "        self.conv2 = nn.Conv2d(32, 64, 3)\n",
        "        self.conv3 = nn.Conv2d(64, 64, 3)\n",
        "        self.pool = nn.MaxPool2d(2)\n",
        "        self.fc1 = nn.Linear(64*3*3, 64)\n",
        "        self.fc2 = nn.Linear(64, 10)\n",
        "\n",
        "    def forward(self, x):\n",
        "        x = F.relu(self.conv1(x))\n",
        "        x = self.pool(x)\n",
        "        x = F.relu(self.conv2(x))\n",
        "        x = self.pool(x)\n",
        "        x = F.relu(self.conv3(x))\n",
        "        x = x.view(x.size(0), -1)\n",
        "        x = F.relu(self.fc1(x))\n",
        "        return self.fc2(x)\n",
        "\n",
        "# Initialize model, loss, optimizer\n",
        "model = CNN().to(device)\n",
        "criterion = nn.CrossEntropyLoss()\n",
        "optimizer = optim.Adam(model.parameters(), lr=learning_rate)\n",
        "\n",
        "# Training\n",
        "model.train()\n",
        "for epoch in range(1, epochs+1):\n",
        "    total_loss = 0\n",
        "    for imgs, lbls in train_loader:\n",
        "        imgs, lbls = imgs.to(device), lbls.to(device)\n",
        "        optimizer.zero_grad()\n",
        "        outputs = model(imgs)\n",
        "        loss = criterion(outputs, lbls)\n",
        "        loss.backward()\n",
        "        optimizer.step()\n",
        "        total_loss += loss.item()*imgs.size(0)\n",
        "    print(f\"Epoch {epoch}/{epochs}, Loss: {total_loss/len(train_loader.dataset):.4f}\")\n",
        "\n",
        "# Evaluate\n",
        "model.eval()\n",
        "with torch.no_grad():\n",
        "    correct = 0\n",
        "    for imgs, lbls in test_loader:\n",
        "        imgs, lbls = imgs.to(device), lbls.to(device)\n",
        "        preds = model(imgs).argmax(1)\n",
        "        correct += (preds==lbls).sum().item()\n",
        "    print(f\"Test Accuracy: {correct/len(test_loader.dataset):.4f}\")\n",
        "\n",
        "\n",
        "\n",
        "\n",
        "# Select one '4'\n",
        "all_imgs = test_dataset.data.unsqueeze(1).float()/255.0\n",
        "targets = test_dataset.targets\n",
        "idx = (targets==4).nonzero()[0].item()\n",
        "sample = all_imgs[idx:idx+1].to(device)\n",
        "\n",
        "# Initialize adversarial example with random noise within epsilon-ball\n",
        "\n",
        "# torch.rand_like(sample) creates uniform noise ∈ [0,1].\n",
        "\n",
        "# *2*epsilon - epsilon rescales it to ∈ [–ε, +ε].\n",
        "\n",
        "# Adding this to your clean sample gives adv_img⁽⁰⁾, a random point in the L∞–ball around the original.\n",
        "\n",
        "# .clamp(0,1) ensures valid pixel range.\n",
        "\n",
        "# .detach().requires_grad_(True) breaks ties to the original graph and tells PyTorch to track gradients on adv_img.\n",
        "\n",
        "adv_img = sample + (torch.rand_like(sample)*2*epsilon - epsilon)\n",
        "adv_img = adv_img.clamp(0,1).detach().requires_grad_(True)\n",
        "\n",
        "\n",
        "\n",
        "# Targeted PGD: minimize loss for target label 9\n",
        "target_label = torch.tensor([9], device=device)\n",
        "# Compute gradient\n",
        "\n",
        "# outputs = model(adv_img) runs a forward pass on the current perturbed image.\n",
        "\n",
        "# loss = criterion(outputs, target_label) computes cross‐entropy w.r.t. your target class (9).\n",
        "\n",
        "# loss.backward() populates adv_img.grad with ∇ₓℓ(model(x), target).\n",
        "for i in range(num_iterations):\n",
        "    outputs = model(adv_img)\n",
        "    loss = criterion(outputs, target_label)\n",
        "    model.zero_grad()\n",
        "    loss.backward()\n",
        "    # Gradient descent step to minimize loss toward target\n",
        "    # Gradient update\n",
        "\n",
        "    # You do a small step down the gradient of the target loss (i.e. gradient descent) because you want to minimize ℓ(f(x_adv), 9).\n",
        "\n",
        "    # alpha * sign(grad) is exactly the FGSM‐style step, but you repeat it T times.\n",
        "    adv_img = adv_img - alpha * adv_img.grad.sign()\n",
        "    # Projection: keep within epsilon-ball of original\n",
        "    #     Projection\n",
        "\n",
        "    # torch.min(adv_img, sample + ε) caps any pixel that went above original + ε;\n",
        "\n",
        "    # torch.max(..., sample - ε) caps pixels that went below original - ε.\n",
        "\n",
        "    # Now ‖adv_img − sample‖∞ ≤ ε is guaranteed.\n",
        "\n",
        "    # .clamp(0,1) again for legitimate image range.\n",
        "\n",
        "    # .detach().requires_grad_(True) resets the computational graph so the next backward() computes gradients only w.r.t. the new adv_img.\n",
        "    adv_img = torch.max(torch.min(adv_img, sample+epsilon), sample-epsilon)\n",
        "    adv_img = adv_img.clamp(0,1).detach().requires_grad_(True)\n",
        "\n",
        "# Plot results\n",
        "orig = sample.squeeze().cpu().numpy()\n",
        "adversarial = adv_img.detach().squeeze().cpu().numpy()\n",
        "plt.figure(figsize=(8,4))\n",
        "plt.subplot(1,2,1); plt.imshow(orig, cmap='gray'); plt.title('Original (4)'); plt.axis('off')\n",
        "plt.subplot(1,2,2); plt.imshow(adversarial, cmap='gray'); plt.title('Adversarial (->9)'); plt.axis('off')\n",
        "plt.show()\n",
        "\n",
        "# Prediction on adversarial image\n",
        "with torch.no_grad():\n",
        "    pred = model(adv_img).argmax(1).item()\n",
        "print(f\"Predicted label for adversarial image: {pred}\")\n",
        "\n",
        "# Every loop iteration thus:\n",
        "\n",
        "# Measures how far adv_img is from looking like class 9 (via loss).\n",
        "\n",
        "# Moves it a bit in the direction that reduces that loss (so the network becomes more confident in “9”).\n",
        "\n",
        "# Projects back so you never stray beyond your allowed perturbation (the ε-ball) or valid pixel range.\n"
      ]
    },
    {
      "cell_type": "code",
      "execution_count": 20,
      "metadata": {
        "id": "eGx3Maz7TzJr"
      },
      "outputs": [],
      "source": []
    },
    {
      "cell_type": "markdown",
      "metadata": {
        "id": "VE_sVMTdQfke"
      },
      "source": [
        "**Task 5**"
      ]
    },
    {
      "cell_type": "code",
      "execution_count": 20,
      "metadata": {
        "id": "0_bcaiixQivy"
      },
      "outputs": [],
      "source": []
    }
  ],
  "metadata": {
    "accelerator": "GPU",
    "colab": {
      "gpuType": "A100",
      "machine_shape": "hm",
      "provenance": [],
      "authorship_tag": "ABX9TyN6Sa+qOT1gwYZu8Gl45I7z"
    },
    "kernelspec": {
      "display_name": "Python 3",
      "name": "python3"
    },
    "language_info": {
      "name": "python"
    }
  },
  "nbformat": 4,
  "nbformat_minor": 0
}